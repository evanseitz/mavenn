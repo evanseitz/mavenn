{
 "cells": [
  {
   "cell_type": "code",
   "execution_count": 1,
   "metadata": {
    "ExecuteTime": {
     "end_time": "2020-11-17T18:18:47.707482Z",
     "start_time": "2020-11-17T18:18:44.952486Z"
    }
   },
   "outputs": [
    {
     "name": "stdout",
     "output_type": "stream",
     "text": [
      "['/Users/tareen/Desktop/Research_Projects/2020_mavenn_github/mavenn/mavenn']\n"
     ]
    }
   ],
   "source": [
    "# Standard imports\n",
    "import pandas as pd\n",
    "import matplotlib.pyplot as plt\n",
    "import numpy as np\n",
    "import time\n",
    "import logomaker\n",
    "\n",
    "# Insert path to mavenn beginning of path\n",
    "import os\n",
    "import sys\n",
    "sys.path.insert(0, '/Users/tareen/Desktop/Research_Projects/2020_mavenn_github/mavenn')\n",
    "\n",
    "\n",
    "# Load mavenn\n",
    "import mavenn\n",
    "print(mavenn.__path__)"
   ]
  },
  {
   "cell_type": "code",
   "execution_count": 2,
   "metadata": {
    "ExecuteTime": {
     "end_time": "2020-11-17T18:18:47.835115Z",
     "start_time": "2020-11-17T18:18:47.711219Z"
    }
   },
   "outputs": [
    {
     "name": "stdout",
     "output_type": "stream",
     "text": [
      "test N: 6,249\n",
      "training + validation N: 24,234\n"
     ]
    },
    {
     "data": {
      "text/html": [
       "<div>\n",
       "<style scoped>\n",
       "    .dataframe tbody tr th:only-of-type {\n",
       "        vertical-align: middle;\n",
       "    }\n",
       "\n",
       "    .dataframe tbody tr th {\n",
       "        vertical-align: top;\n",
       "    }\n",
       "\n",
       "    .dataframe thead th {\n",
       "        text-align: right;\n",
       "    }\n",
       "</style>\n",
       "<table border=\"1\" class=\"dataframe\">\n",
       "  <thead>\n",
       "    <tr style=\"text-align: right;\">\n",
       "      <th></th>\n",
       "      <th>set</th>\n",
       "      <th>tot_ct</th>\n",
       "      <th>ex_ct</th>\n",
       "      <th>y</th>\n",
       "      <th>x</th>\n",
       "    </tr>\n",
       "  </thead>\n",
       "  <tbody>\n",
       "    <tr>\n",
       "      <th>0</th>\n",
       "      <td>training</td>\n",
       "      <td>28</td>\n",
       "      <td>2</td>\n",
       "      <td>0.023406</td>\n",
       "      <td>GGAGUGAUG</td>\n",
       "    </tr>\n",
       "    <tr>\n",
       "      <th>1</th>\n",
       "      <td>training</td>\n",
       "      <td>315</td>\n",
       "      <td>7</td>\n",
       "      <td>-0.587914</td>\n",
       "      <td>AGUGUGCAA</td>\n",
       "    </tr>\n",
       "    <tr>\n",
       "      <th>2</th>\n",
       "      <td>validation</td>\n",
       "      <td>27</td>\n",
       "      <td>0</td>\n",
       "      <td>-0.438475</td>\n",
       "      <td>UAAGCUUUU</td>\n",
       "    </tr>\n",
       "    <tr>\n",
       "      <th>3</th>\n",
       "      <td>training</td>\n",
       "      <td>130</td>\n",
       "      <td>2</td>\n",
       "      <td>-0.631467</td>\n",
       "      <td>AUGGUCGGG</td>\n",
       "    </tr>\n",
       "    <tr>\n",
       "      <th>4</th>\n",
       "      <td>training</td>\n",
       "      <td>552</td>\n",
       "      <td>19</td>\n",
       "      <td>-0.433012</td>\n",
       "      <td>AGGGCAGGA</td>\n",
       "    </tr>\n",
       "    <tr>\n",
       "      <th>5</th>\n",
       "      <td>training</td>\n",
       "      <td>151</td>\n",
       "      <td>184</td>\n",
       "      <td>1.094011</td>\n",
       "      <td>AAGGUCCGC</td>\n",
       "    </tr>\n",
       "    <tr>\n",
       "      <th>6</th>\n",
       "      <td>training</td>\n",
       "      <td>88</td>\n",
       "      <td>4</td>\n",
       "      <td>-0.241737</td>\n",
       "      <td>CAGGCAAAC</td>\n",
       "    </tr>\n",
       "    <tr>\n",
       "      <th>7</th>\n",
       "      <td>training</td>\n",
       "      <td>105</td>\n",
       "      <td>5</td>\n",
       "      <td>-0.238471</td>\n",
       "      <td>GUGGCAAAU</td>\n",
       "    </tr>\n",
       "    <tr>\n",
       "      <th>8</th>\n",
       "      <td>validation</td>\n",
       "      <td>14</td>\n",
       "      <td>0</td>\n",
       "      <td>-0.167408</td>\n",
       "      <td>CAUGCAGCU</td>\n",
       "    </tr>\n",
       "    <tr>\n",
       "      <th>9</th>\n",
       "      <td>training</td>\n",
       "      <td>170</td>\n",
       "      <td>14</td>\n",
       "      <td>-0.048222</td>\n",
       "      <td>CAAGUCACU</td>\n",
       "    </tr>\n",
       "  </tbody>\n",
       "</table>\n",
       "</div>"
      ],
      "text/plain": [
       "          set  tot_ct  ex_ct         y          x\n",
       "0    training      28      2  0.023406  GGAGUGAUG\n",
       "1    training     315      7 -0.587914  AGUGUGCAA\n",
       "2  validation      27      0 -0.438475  UAAGCUUUU\n",
       "3    training     130      2 -0.631467  AUGGUCGGG\n",
       "4    training     552     19 -0.433012  AGGGCAGGA\n",
       "5    training     151    184  1.094011  AAGGUCCGC\n",
       "6    training      88      4 -0.241737  CAGGCAAAC\n",
       "7    training     105      5 -0.238471  GUGGCAAAU\n",
       "8  validation      14      0 -0.167408  CAUGCAGCU\n",
       "9    training     170     14 -0.048222  CAAGUCACU"
      ]
     },
     "execution_count": 2,
     "metadata": {},
     "output_type": "execute_result"
    }
   ],
   "source": [
    "# Load example data\n",
    "data_df = mavenn.load_example_dataset('mpsa')\n",
    "\n",
    "# Separate test from data_df\n",
    "ix_test = data_df['set']=='test'\n",
    "test_df = data_df[ix_test].reset_index(drop=True)\n",
    "print(f'test N: {len(test_df):,}')\n",
    "\n",
    "# Remove test data from data_df\n",
    "data_df = data_df[~ix_test].reset_index(drop=True)\n",
    "print(f'training + validation N: {len(data_df):,}')\n",
    "data_df.head(10)"
   ]
  },
  {
   "cell_type": "code",
   "execution_count": 3,
   "metadata": {
    "ExecuteTime": {
     "end_time": "2020-11-17T18:18:49.794989Z",
     "start_time": "2020-11-17T18:18:47.843656Z"
    },
    "collapsed": true,
    "scrolled": false
   },
   "outputs": [],
   "source": [
    "# Get sequence length\n",
    "L = len(data_df['x'][0])\n",
    "\n",
    "# Define model\n",
    "model = mavenn.Model(L=L,\n",
    "                     alphabet='rna',\n",
    "                     gpmap_type='additive',\n",
    "                     number_latent_nodes=3,\n",
    "                     regression_type='Multi_Phi_GE',\n",
    "                     ge_noise_model_type='SkewedT',\n",
    "                     ge_heteroskedasticity_order=2)\n"
   ]
  },
  {
   "cell_type": "code",
   "execution_count": 4,
   "metadata": {},
   "outputs": [
    {
     "name": "stdout",
     "output_type": "stream",
     "text": [
      "Model: \"model\"\n",
      "__________________________________________________________________________________________________\n",
      "Layer (type)                    Output Shape         Param #     Connected to                     \n",
      "==================================================================================================\n",
      "Sequence_labels_input (InputLay [(None, 37)]         0                                            \n",
      "__________________________________________________________________________________________________\n",
      "Sequence_only (Lambda)          (None, 36)           0           Sequence_labels_input[0][0]      \n",
      "__________________________________________________________________________________________________\n",
      "multi__additive_gp_map_layer (M (None, 3)            111         Sequence_only[0][0]              \n",
      "__________________________________________________________________________________________________\n",
      "multi_phi_global_epistasis_laye (None, 1)            251         multi__additive_gp_map_layer[0][0\n",
      "__________________________________________________________________________________________________\n",
      "Labels_input (Lambda)           (None, 1)            0           Sequence_labels_input[0][0]      \n",
      "__________________________________________________________________________________________________\n",
      "yhat_and_y_to_ll (Concatenate)  (None, 2)            0           multi_phi_global_epistasis_layer[\n",
      "                                                                 Labels_input[0][0]               \n",
      "__________________________________________________________________________________________________\n",
      "skewed_t_noise_model_layer (Ske (None, 1)            9           yhat_and_y_to_ll[0][0]           \n",
      "==================================================================================================\n",
      "Total params: 371\n",
      "Trainable params: 371\n",
      "Non-trainable params: 0\n",
      "__________________________________________________________________________________________________\n"
     ]
    }
   ],
   "source": [
    "model.get_nn().summary()"
   ]
  },
  {
   "cell_type": "code",
   "execution_count": 5,
   "metadata": {
    "ExecuteTime": {
     "end_time": "2020-11-17T18:18:50.313341Z",
     "start_time": "2020-11-17T18:18:49.810979Z"
    }
   },
   "outputs": [
    {
     "name": "stdout",
     "output_type": "stream",
     "text": [
      "N = 24,234 observations set as training data.\n",
      "Using 24.8% for validation.\n",
      "Data shuffled.\n",
      "Time to set data: 0.37 sec.\n"
     ]
    }
   ],
   "source": [
    "# Set training data\n",
    "model.set_data(x=data_df['x'],\n",
    "               y=data_df['y'],\n",
    "               validation_flags=(data_df['set']=='validation'),\n",
    "               shuffle=True)"
   ]
  },
  {
   "cell_type": "code",
   "execution_count": 6,
   "metadata": {
    "ExecuteTime": {
     "end_time": "2020-11-17T18:19:26.019705Z",
     "start_time": "2020-11-17T18:18:50.317192Z"
    },
    "scrolled": true
   },
   "outputs": [
    {
     "name": "stdout",
     "output_type": "stream",
     "text": [
      "Epoch 1/1000\n",
      "92/92 [==============================] - 3s 9ms/step - loss: 311.0696 - I_var: -0.6597 - val_loss: 279.7899 - val_I_var: -0.5516\n",
      "Epoch 2/1000\n",
      "92/92 [==============================] - 0s 3ms/step - loss: 274.7473 - I_var: -0.4914 - val_loss: 261.6087 - val_I_var: -0.4358\n",
      "Epoch 3/1000\n",
      "92/92 [==============================] - 0s 3ms/step - loss: 257.7226 - I_var: -0.3874 - val_loss: 245.7521 - val_I_var: -0.3352\n",
      "Epoch 4/1000\n",
      "92/92 [==============================] - 0s 3ms/step - loss: 242.8654 - I_var: -0.2945 - val_loss: 233.3064 - val_I_var: -0.2564\n",
      "Epoch 5/1000\n",
      "92/92 [==============================] - 0s 3ms/step - loss: 233.2955 - I_var: -0.2264 - val_loss: 223.6591 - val_I_var: -0.1970\n",
      "Epoch 6/1000\n",
      "92/92 [==============================] - 0s 3ms/step - loss: 221.4315 - I_var: -0.1824 - val_loss: 216.8424 - val_I_var: -0.1562\n",
      "Epoch 7/1000\n",
      "92/92 [==============================] - 0s 3ms/step - loss: 215.4980 - I_var: -0.1493 - val_loss: 211.2806 - val_I_var: -0.1237\n",
      "Epoch 8/1000\n",
      "92/92 [==============================] - 0s 3ms/step - loss: 213.0254 - I_var: -0.1108 - val_loss: 205.6971 - val_I_var: -0.0892\n",
      "Epoch 9/1000\n",
      "92/92 [==============================] - 0s 2ms/step - loss: 204.7409 - I_var: -0.0723 - val_loss: 199.5450 - val_I_var: -0.0477\n",
      "Epoch 10/1000\n",
      "92/92 [==============================] - 0s 3ms/step - loss: 199.9316 - I_var: -0.0362 - val_loss: 195.7816 - val_I_var: -0.0225\n",
      "Epoch 11/1000\n",
      "92/92 [==============================] - 0s 3ms/step - loss: 197.6411 - I_var: -0.0203 - val_loss: 193.3837 - val_I_var: -0.0060\n",
      "Epoch 12/1000\n",
      "92/92 [==============================] - 0s 3ms/step - loss: 192.5273 - I_var: 0.0016 - val_loss: 190.6206 - val_I_var: 0.0125\n",
      "Epoch 13/1000\n",
      "92/92 [==============================] - 0s 3ms/step - loss: 188.0066 - I_var: 0.0231 - val_loss: 188.2859 - val_I_var: 0.0293\n",
      "Epoch 14/1000\n",
      "92/92 [==============================] - 0s 3ms/step - loss: 189.5592 - I_var: 0.0285 - val_loss: 185.9065 - val_I_var: 0.0463\n",
      "Epoch 15/1000\n",
      "92/92 [==============================] - 0s 2ms/step - loss: 184.8876 - I_var: 0.0416 - val_loss: 183.5788 - val_I_var: 0.0635\n",
      "Epoch 16/1000\n",
      "92/92 [==============================] - 0s 2ms/step - loss: 186.1572 - I_var: 0.0611 - val_loss: 181.4732 - val_I_var: 0.0789\n",
      "Epoch 17/1000\n",
      "92/92 [==============================] - 0s 3ms/step - loss: 183.6954 - I_var: 0.0771 - val_loss: 179.7093 - val_I_var: 0.0928\n",
      "Epoch 18/1000\n",
      "92/92 [==============================] - 0s 3ms/step - loss: 183.2315 - I_var: 0.0878 - val_loss: 177.8556 - val_I_var: 0.1062\n",
      "Epoch 19/1000\n",
      "92/92 [==============================] - 0s 2ms/step - loss: 179.3332 - I_var: 0.0943 - val_loss: 176.5956 - val_I_var: 0.1157\n",
      "Epoch 20/1000\n",
      "92/92 [==============================] - 0s 3ms/step - loss: 176.4072 - I_var: 0.1049 - val_loss: 175.5720 - val_I_var: 0.1238\n",
      "Epoch 21/1000\n",
      "92/92 [==============================] - 0s 3ms/step - loss: 177.0469 - I_var: 0.1137 - val_loss: 174.9366 - val_I_var: 0.1286\n",
      "Epoch 22/1000\n",
      "92/92 [==============================] - 0s 2ms/step - loss: 174.5652 - I_var: 0.1149 - val_loss: 174.3356 - val_I_var: 0.1335\n",
      "Epoch 23/1000\n",
      "92/92 [==============================] - 0s 2ms/step - loss: 177.1505 - I_var: 0.1185 - val_loss: 174.0031 - val_I_var: 0.1361\n",
      "Epoch 24/1000\n",
      "92/92 [==============================] - 0s 2ms/step - loss: 173.8534 - I_var: 0.1170 - val_loss: 173.8293 - val_I_var: 0.1376\n",
      "Epoch 25/1000\n",
      "92/92 [==============================] - 0s 2ms/step - loss: 175.9269 - I_var: 0.1170 - val_loss: 173.6091 - val_I_var: 0.1392\n",
      "Epoch 26/1000\n",
      "92/92 [==============================] - 0s 3ms/step - loss: 175.3487 - I_var: 0.1181 - val_loss: 173.4495 - val_I_var: 0.1404\n",
      "Epoch 27/1000\n",
      "92/92 [==============================] - 0s 3ms/step - loss: 177.8592 - I_var: 0.1216 - val_loss: 173.2681 - val_I_var: 0.1418\n",
      "Epoch 28/1000\n",
      "92/92 [==============================] - 0s 3ms/step - loss: 177.4348 - I_var: 0.1252 - val_loss: 173.2115 - val_I_var: 0.1423\n",
      "Epoch 29/1000\n",
      "92/92 [==============================] - 0s 2ms/step - loss: 175.4782 - I_var: 0.1264 - val_loss: 173.0104 - val_I_var: 0.1437\n",
      "Epoch 30/1000\n",
      "92/92 [==============================] - 0s 2ms/step - loss: 176.0132 - I_var: 0.1181 - val_loss: 172.8855 - val_I_var: 0.1447\n",
      "Epoch 31/1000\n",
      "92/92 [==============================] - 0s 2ms/step - loss: 173.2630 - I_var: 0.1263 - val_loss: 172.7935 - val_I_var: 0.1453\n",
      "Epoch 32/1000\n",
      "92/92 [==============================] - 0s 2ms/step - loss: 176.6568 - I_var: 0.1266 - val_loss: 172.8966 - val_I_var: 0.1447\n",
      "Epoch 33/1000\n",
      "92/92 [==============================] - 0s 3ms/step - loss: 174.9599 - I_var: 0.1258 - val_loss: 172.6432 - val_I_var: 0.1463\n",
      "Epoch 34/1000\n",
      "92/92 [==============================] - 0s 3ms/step - loss: 174.5667 - I_var: 0.1272 - val_loss: 172.5352 - val_I_var: 0.1473\n",
      "Epoch 35/1000\n",
      "92/92 [==============================] - 0s 3ms/step - loss: 176.7797 - I_var: 0.1247 - val_loss: 172.4769 - val_I_var: 0.1476\n",
      "Epoch 36/1000\n",
      "92/92 [==============================] - 0s 3ms/step - loss: 173.5268 - I_var: 0.1322 - val_loss: 172.3629 - val_I_var: 0.1485\n",
      "Epoch 37/1000\n",
      "92/92 [==============================] - 0s 3ms/step - loss: 174.2945 - I_var: 0.1274 - val_loss: 172.3884 - val_I_var: 0.1483\n",
      "Epoch 38/1000\n",
      "92/92 [==============================] - 0s 3ms/step - loss: 173.8778 - I_var: 0.1317 - val_loss: 172.2307 - val_I_var: 0.1495\n",
      "Epoch 39/1000\n",
      "92/92 [==============================] - 0s 4ms/step - loss: 176.4060 - I_var: 0.1310 - val_loss: 172.1629 - val_I_var: 0.1501\n",
      "Epoch 40/1000\n",
      "92/92 [==============================] - 0s 4ms/step - loss: 172.5017 - I_var: 0.1323 - val_loss: 172.2035 - val_I_var: 0.1496\n",
      "Epoch 41/1000\n",
      "92/92 [==============================] - 0s 3ms/step - loss: 171.4868 - I_var: 0.1265 - val_loss: 172.1429 - val_I_var: 0.1501\n",
      "Epoch 42/1000\n",
      "92/92 [==============================] - 0s 4ms/step - loss: 171.6279 - I_var: 0.1315 - val_loss: 171.9686 - val_I_var: 0.1516\n",
      "Epoch 43/1000\n",
      "92/92 [==============================] - 0s 4ms/step - loss: 174.4098 - I_var: 0.1305 - val_loss: 171.9543 - val_I_var: 0.1516\n",
      "Epoch 44/1000\n",
      "92/92 [==============================] - 0s 5ms/step - loss: 174.2244 - I_var: 0.1323 - val_loss: 171.8686 - val_I_var: 0.1523\n",
      "Epoch 45/1000\n",
      "92/92 [==============================] - 0s 3ms/step - loss: 171.6300 - I_var: 0.1391 - val_loss: 171.7627 - val_I_var: 0.1531\n",
      "Epoch 46/1000\n",
      "92/92 [==============================] - 0s 3ms/step - loss: 174.8652 - I_var: 0.1236 - val_loss: 171.7674 - val_I_var: 0.1530\n",
      "Epoch 47/1000\n",
      "92/92 [==============================] - 0s 3ms/step - loss: 175.5113 - I_var: 0.1307 - val_loss: 171.6473 - val_I_var: 0.1542\n",
      "Epoch 48/1000\n",
      "92/92 [==============================] - 0s 3ms/step - loss: 172.8555 - I_var: 0.1349 - val_loss: 171.6353 - val_I_var: 0.1541\n",
      "Epoch 49/1000\n",
      "92/92 [==============================] - 0s 3ms/step - loss: 173.0153 - I_var: 0.1248 - val_loss: 171.6277 - val_I_var: 0.1540\n",
      "Epoch 50/1000\n",
      "92/92 [==============================] - 0s 4ms/step - loss: 174.1226 - I_var: 0.1390 - val_loss: 171.5524 - val_I_var: 0.1548\n",
      "Epoch 51/1000\n",
      "92/92 [==============================] - 0s 4ms/step - loss: 176.1402 - I_var: 0.1344 - val_loss: 171.6160 - val_I_var: 0.1544\n",
      "Epoch 52/1000\n",
      "92/92 [==============================] - 0s 4ms/step - loss: 173.9532 - I_var: 0.1370 - val_loss: 171.4254 - val_I_var: 0.1556\n",
      "Epoch 53/1000\n",
      "92/92 [==============================] - 0s 4ms/step - loss: 173.1217 - I_var: 0.1413 - val_loss: 171.3685 - val_I_var: 0.1563\n",
      "Epoch 54/1000\n",
      "92/92 [==============================] - 0s 4ms/step - loss: 174.2500 - I_var: 0.1351 - val_loss: 171.3163 - val_I_var: 0.1566\n",
      "Epoch 55/1000\n",
      "92/92 [==============================] - 0s 4ms/step - loss: 175.5982 - I_var: 0.1380 - val_loss: 171.3453 - val_I_var: 0.1564\n",
      "Epoch 56/1000\n",
      "92/92 [==============================] - 0s 4ms/step - loss: 174.4367 - I_var: 0.1323 - val_loss: 171.3502 - val_I_var: 0.1563\n",
      "Epoch 57/1000\n",
      "92/92 [==============================] - 0s 3ms/step - loss: 175.5164 - I_var: 0.1335 - val_loss: 171.2218 - val_I_var: 0.1573\n",
      "Epoch 58/1000\n",
      "92/92 [==============================] - 0s 4ms/step - loss: 173.7135 - I_var: 0.1394 - val_loss: 171.2013 - val_I_var: 0.1575\n",
      "Epoch 59/1000\n"
     ]
    },
    {
     "name": "stdout",
     "output_type": "stream",
     "text": [
      "92/92 [==============================] - 0s 5ms/step - loss: 173.3116 - I_var: 0.1392 - val_loss: 171.1217 - val_I_var: 0.1582\n",
      "Epoch 60/1000\n",
      "92/92 [==============================] - 0s 5ms/step - loss: 172.9370 - I_var: 0.1366 - val_loss: 171.1023 - val_I_var: 0.1582\n",
      "Epoch 61/1000\n",
      "92/92 [==============================] - 0s 3ms/step - loss: 173.0088 - I_var: 0.1410 - val_loss: 171.0961 - val_I_var: 0.1583\n",
      "Epoch 62/1000\n",
      "92/92 [==============================] - 0s 3ms/step - loss: 174.5777 - I_var: 0.1405 - val_loss: 171.0474 - val_I_var: 0.1588\n",
      "Epoch 63/1000\n",
      "92/92 [==============================] - 0s 3ms/step - loss: 174.4258 - I_var: 0.1409 - val_loss: 170.9760 - val_I_var: 0.1594\n",
      "Epoch 64/1000\n",
      "92/92 [==============================] - 0s 3ms/step - loss: 172.7566 - I_var: 0.1350 - val_loss: 170.9398 - val_I_var: 0.1595\n",
      "Epoch 65/1000\n",
      "92/92 [==============================] - 0s 3ms/step - loss: 171.5496 - I_var: 0.1312 - val_loss: 170.9331 - val_I_var: 0.1594\n",
      "Epoch 66/1000\n",
      "92/92 [==============================] - 0s 3ms/step - loss: 174.2398 - I_var: 0.1461 - val_loss: 170.8839 - val_I_var: 0.1601\n",
      "Epoch 67/1000\n",
      "92/92 [==============================] - 0s 3ms/step - loss: 175.5236 - I_var: 0.1448 - val_loss: 170.9462 - val_I_var: 0.1597\n",
      "Epoch 68/1000\n",
      "92/92 [==============================] - 0s 3ms/step - loss: 175.8189 - I_var: 0.1377 - val_loss: 170.8014 - val_I_var: 0.1607\n",
      "Epoch 69/1000\n",
      "92/92 [==============================] - 0s 3ms/step - loss: 171.4448 - I_var: 0.1475 - val_loss: 170.7815 - val_I_var: 0.1608\n",
      "Epoch 70/1000\n",
      "92/92 [==============================] - 0s 4ms/step - loss: 172.5608 - I_var: 0.1384 - val_loss: 170.7007 - val_I_var: 0.1614\n",
      "Epoch 71/1000\n",
      "92/92 [==============================] - 0s 4ms/step - loss: 172.5736 - I_var: 0.1425 - val_loss: 170.8231 - val_I_var: 0.1606\n",
      "Epoch 72/1000\n",
      "92/92 [==============================] - 0s 5ms/step - loss: 171.8015 - I_var: 0.1409 - val_loss: 170.7086 - val_I_var: 0.1611\n",
      "Epoch 73/1000\n",
      "92/92 [==============================] - 0s 3ms/step - loss: 175.0938 - I_var: 0.1428 - val_loss: 170.6329 - val_I_var: 0.1619\n",
      "Epoch 74/1000\n",
      "92/92 [==============================] - 0s 3ms/step - loss: 172.2060 - I_var: 0.1387 - val_loss: 170.6012 - val_I_var: 0.1621\n",
      "Epoch 75/1000\n",
      "92/92 [==============================] - 0s 4ms/step - loss: 175.2222 - I_var: 0.1449 - val_loss: 170.5870 - val_I_var: 0.1620\n",
      "Epoch 76/1000\n",
      "92/92 [==============================] - 0s 3ms/step - loss: 174.7399 - I_var: 0.1430 - val_loss: 170.5565 - val_I_var: 0.1624\n",
      "Epoch 77/1000\n",
      "92/92 [==============================] - 0s 3ms/step - loss: 173.8866 - I_var: 0.1436 - val_loss: 170.6408 - val_I_var: 0.1619\n",
      "Epoch 78/1000\n",
      "92/92 [==============================] - 0s 3ms/step - loss: 173.5707 - I_var: 0.1427 - val_loss: 170.4259 - val_I_var: 0.1634\n",
      "Epoch 79/1000\n",
      "92/92 [==============================] - 0s 3ms/step - loss: 170.6928 - I_var: 0.1426 - val_loss: 170.4100 - val_I_var: 0.1635\n",
      "Epoch 80/1000\n",
      "92/92 [==============================] - 0s 5ms/step - loss: 170.8313 - I_var: 0.1381 - val_loss: 170.4782 - val_I_var: 0.1632\n",
      "Epoch 81/1000\n",
      "92/92 [==============================] - 0s 4ms/step - loss: 172.9886 - I_var: 0.1500 - val_loss: 170.3821 - val_I_var: 0.1639\n",
      "Epoch 82/1000\n",
      "92/92 [==============================] - 0s 4ms/step - loss: 175.2791 - I_var: 0.1414 - val_loss: 170.4743 - val_I_var: 0.1631\n",
      "Epoch 83/1000\n",
      "92/92 [==============================] - 0s 4ms/step - loss: 172.0237 - I_var: 0.1382 - val_loss: 170.4661 - val_I_var: 0.1631\n",
      "Epoch 84/1000\n",
      "92/92 [==============================] - 0s 5ms/step - loss: 171.9780 - I_var: 0.1375 - val_loss: 170.2451 - val_I_var: 0.1648\n",
      "Epoch 85/1000\n",
      "92/92 [==============================] - 0s 4ms/step - loss: 170.2359 - I_var: 0.1459 - val_loss: 170.3120 - val_I_var: 0.1642\n",
      "Epoch 86/1000\n",
      "92/92 [==============================] - 0s 3ms/step - loss: 172.8390 - I_var: 0.1422 - val_loss: 170.1785 - val_I_var: 0.1652\n",
      "Epoch 87/1000\n",
      "92/92 [==============================] - 0s 3ms/step - loss: 171.1417 - I_var: 0.1470 - val_loss: 170.1475 - val_I_var: 0.1656\n",
      "Epoch 88/1000\n",
      "92/92 [==============================] - 0s 3ms/step - loss: 176.2877 - I_var: 0.1392 - val_loss: 170.0861 - val_I_var: 0.1661\n",
      "Epoch 89/1000\n",
      "92/92 [==============================] - 0s 3ms/step - loss: 175.5893 - I_var: 0.1502 - val_loss: 170.2141 - val_I_var: 0.1649\n",
      "Epoch 90/1000\n",
      "92/92 [==============================] - 0s 3ms/step - loss: 174.4878 - I_var: 0.1468 - val_loss: 170.0378 - val_I_var: 0.1664\n",
      "Epoch 91/1000\n",
      "92/92 [==============================] - 0s 3ms/step - loss: 171.9318 - I_var: 0.1427 - val_loss: 170.0039 - val_I_var: 0.1666\n",
      "Epoch 92/1000\n",
      "92/92 [==============================] - 0s 3ms/step - loss: 171.6414 - I_var: 0.1485 - val_loss: 169.9520 - val_I_var: 0.1671\n",
      "Epoch 93/1000\n",
      "92/92 [==============================] - 0s 3ms/step - loss: 171.7231 - I_var: 0.1513 - val_loss: 169.9453 - val_I_var: 0.1670\n",
      "Epoch 94/1000\n",
      "92/92 [==============================] - 0s 3ms/step - loss: 172.3248 - I_var: 0.1510 - val_loss: 169.8986 - val_I_var: 0.1674\n",
      "Epoch 95/1000\n",
      "92/92 [==============================] - 0s 2ms/step - loss: 175.2070 - I_var: 0.1465 - val_loss: 169.8727 - val_I_var: 0.1678\n",
      "Epoch 96/1000\n",
      "92/92 [==============================] - 0s 3ms/step - loss: 171.6008 - I_var: 0.1474 - val_loss: 169.8196 - val_I_var: 0.1680\n",
      "Epoch 97/1000\n",
      "92/92 [==============================] - 0s 4ms/step - loss: 172.0098 - I_var: 0.1473 - val_loss: 169.8235 - val_I_var: 0.1681\n",
      "Epoch 98/1000\n",
      "92/92 [==============================] - 0s 3ms/step - loss: 174.7160 - I_var: 0.1482 - val_loss: 169.8404 - val_I_var: 0.1679\n",
      "Epoch 99/1000\n",
      "92/92 [==============================] - 0s 3ms/step - loss: 173.1922 - I_var: 0.1443 - val_loss: 169.7511 - val_I_var: 0.1686\n",
      "Epoch 100/1000\n",
      "92/92 [==============================] - 0s 3ms/step - loss: 171.2970 - I_var: 0.1435 - val_loss: 169.9573 - val_I_var: 0.1671\n",
      "Epoch 101/1000\n",
      "92/92 [==============================] - 0s 4ms/step - loss: 170.1193 - I_var: 0.1512 - val_loss: 169.6670 - val_I_var: 0.1692\n",
      "Epoch 102/1000\n",
      "92/92 [==============================] - 0s 4ms/step - loss: 172.1597 - I_var: 0.1510 - val_loss: 169.6862 - val_I_var: 0.1691\n",
      "Epoch 103/1000\n",
      "92/92 [==============================] - 0s 4ms/step - loss: 172.4187 - I_var: 0.1496 - val_loss: 169.6074 - val_I_var: 0.1698\n",
      "Epoch 104/1000\n",
      "92/92 [==============================] - 0s 4ms/step - loss: 170.8805 - I_var: 0.1398 - val_loss: 169.5435 - val_I_var: 0.1701\n",
      "Epoch 105/1000\n",
      "92/92 [==============================] - 0s 4ms/step - loss: 172.3720 - I_var: 0.1471 - val_loss: 169.5442 - val_I_var: 0.1701\n",
      "Epoch 106/1000\n",
      "92/92 [==============================] - 0s 3ms/step - loss: 171.5069 - I_var: 0.1445 - val_loss: 169.5119 - val_I_var: 0.1706\n",
      "Epoch 107/1000\n",
      "92/92 [==============================] - 0s 3ms/step - loss: 173.2937 - I_var: 0.1505 - val_loss: 169.4416 - val_I_var: 0.1708\n",
      "Epoch 108/1000\n",
      "92/92 [==============================] - 0s 3ms/step - loss: 173.2958 - I_var: 0.1428 - val_loss: 169.4169 - val_I_var: 0.1710\n",
      "Epoch 109/1000\n",
      "92/92 [==============================] - 0s 3ms/step - loss: 171.4849 - I_var: 0.1472 - val_loss: 169.8398 - val_I_var: 0.1675\n",
      "Epoch 110/1000\n",
      "92/92 [==============================] - 0s 2ms/step - loss: 171.4587 - I_var: 0.1505 - val_loss: 169.4035 - val_I_var: 0.1710\n",
      "Epoch 111/1000\n",
      "92/92 [==============================] - 0s 2ms/step - loss: 171.2111 - I_var: 0.1465 - val_loss: 169.3267 - val_I_var: 0.1718\n",
      "Epoch 112/1000\n",
      "92/92 [==============================] - 0s 2ms/step - loss: 172.7986 - I_var: 0.1540 - val_loss: 169.3446 - val_I_var: 0.1718\n",
      "Epoch 113/1000\n",
      "92/92 [==============================] - 0s 2ms/step - loss: 171.1878 - I_var: 0.1507 - val_loss: 169.2495 - val_I_var: 0.1724\n",
      "Epoch 114/1000\n",
      "92/92 [==============================] - 0s 2ms/step - loss: 169.9669 - I_var: 0.1509 - val_loss: 169.2822 - val_I_var: 0.1724\n",
      "Epoch 115/1000\n",
      "92/92 [==============================] - 0s 2ms/step - loss: 169.5588 - I_var: 0.1470 - val_loss: 169.1790 - val_I_var: 0.1730\n",
      "Epoch 116/1000\n",
      "92/92 [==============================] - 0s 2ms/step - loss: 171.9990 - I_var: 0.1541 - val_loss: 169.1604 - val_I_var: 0.1731\n",
      "Epoch 117/1000\n"
     ]
    },
    {
     "name": "stdout",
     "output_type": "stream",
     "text": [
      "92/92 [==============================] - 0s 3ms/step - loss: 172.5787 - I_var: 0.1539 - val_loss: 169.1215 - val_I_var: 0.1734\n",
      "Epoch 118/1000\n",
      "92/92 [==============================] - 0s 3ms/step - loss: 172.1616 - I_var: 0.1495 - val_loss: 169.2103 - val_I_var: 0.1728\n",
      "Epoch 119/1000\n",
      "92/92 [==============================] - 0s 3ms/step - loss: 173.4717 - I_var: 0.1527 - val_loss: 169.1311 - val_I_var: 0.1733\n",
      "Epoch 120/1000\n",
      "92/92 [==============================] - 0s 4ms/step - loss: 172.4316 - I_var: 0.1510 - val_loss: 169.0653 - val_I_var: 0.1740\n",
      "Epoch 121/1000\n",
      "92/92 [==============================] - 0s 3ms/step - loss: 172.1597 - I_var: 0.1565 - val_loss: 169.0275 - val_I_var: 0.1742\n",
      "Epoch 122/1000\n",
      "92/92 [==============================] - 0s 3ms/step - loss: 173.2112 - I_var: 0.1531 - val_loss: 168.9811 - val_I_var: 0.1744\n",
      "Epoch 123/1000\n",
      "92/92 [==============================] - 0s 3ms/step - loss: 170.8022 - I_var: 0.1542 - val_loss: 168.9133 - val_I_var: 0.1751\n",
      "Epoch 124/1000\n",
      "92/92 [==============================] - 0s 4ms/step - loss: 170.3289 - I_var: 0.1548 - val_loss: 168.9299 - val_I_var: 0.1751\n",
      "Epoch 125/1000\n",
      "92/92 [==============================] - 0s 3ms/step - loss: 172.0361 - I_var: 0.1520 - val_loss: 168.9876 - val_I_var: 0.1747\n",
      "Epoch 126/1000\n",
      "92/92 [==============================] - 0s 3ms/step - loss: 169.2170 - I_var: 0.1485 - val_loss: 168.8182 - val_I_var: 0.1758\n",
      "Epoch 127/1000\n",
      "92/92 [==============================] - 0s 2ms/step - loss: 169.5950 - I_var: 0.1583 - val_loss: 168.7833 - val_I_var: 0.1758\n",
      "Epoch 128/1000\n",
      "92/92 [==============================] - 0s 3ms/step - loss: 171.3888 - I_var: 0.1575 - val_loss: 168.7294 - val_I_var: 0.1764\n",
      "Epoch 129/1000\n",
      "92/92 [==============================] - 0s 2ms/step - loss: 172.5045 - I_var: 0.1610 - val_loss: 168.6784 - val_I_var: 0.1768\n",
      "Epoch 130/1000\n",
      "92/92 [==============================] - 0s 2ms/step - loss: 172.1323 - I_var: 0.1526 - val_loss: 168.7034 - val_I_var: 0.1767\n",
      "Epoch 131/1000\n",
      "92/92 [==============================] - 0s 3ms/step - loss: 171.4649 - I_var: 0.1567 - val_loss: 168.6461 - val_I_var: 0.1771\n",
      "Epoch 132/1000\n",
      "92/92 [==============================] - 0s 3ms/step - loss: 170.8126 - I_var: 0.1561 - val_loss: 168.6057 - val_I_var: 0.1774\n",
      "Epoch 133/1000\n",
      "92/92 [==============================] - 0s 3ms/step - loss: 170.7067 - I_var: 0.1581 - val_loss: 168.5932 - val_I_var: 0.1776\n",
      "Epoch 134/1000\n",
      "92/92 [==============================] - 0s 2ms/step - loss: 173.0681 - I_var: 0.1619 - val_loss: 168.5029 - val_I_var: 0.1783\n",
      "Epoch 135/1000\n",
      "92/92 [==============================] - 0s 3ms/step - loss: 172.4639 - I_var: 0.1640 - val_loss: 168.4692 - val_I_var: 0.1785\n",
      "Epoch 136/1000\n",
      "92/92 [==============================] - 0s 2ms/step - loss: 170.7829 - I_var: 0.1564 - val_loss: 168.5251 - val_I_var: 0.1781\n",
      "Epoch 137/1000\n",
      "92/92 [==============================] - 0s 2ms/step - loss: 172.2522 - I_var: 0.1610 - val_loss: 168.4152 - val_I_var: 0.1789\n",
      "Epoch 138/1000\n",
      "92/92 [==============================] - 0s 2ms/step - loss: 170.5794 - I_var: 0.1600 - val_loss: 168.5320 - val_I_var: 0.1780\n",
      "Epoch 139/1000\n",
      "92/92 [==============================] - 0s 3ms/step - loss: 170.6347 - I_var: 0.1578 - val_loss: 168.3197 - val_I_var: 0.1798\n",
      "Epoch 140/1000\n",
      "92/92 [==============================] - 0s 2ms/step - loss: 168.5078 - I_var: 0.1602 - val_loss: 168.3729 - val_I_var: 0.1794\n",
      "Epoch 141/1000\n",
      "92/92 [==============================] - 0s 2ms/step - loss: 169.1175 - I_var: 0.1637 - val_loss: 168.3450 - val_I_var: 0.1794\n",
      "Epoch 142/1000\n",
      "92/92 [==============================] - 0s 3ms/step - loss: 172.2263 - I_var: 0.1626 - val_loss: 168.2232 - val_I_var: 0.1804\n",
      "Epoch 143/1000\n",
      "92/92 [==============================] - 0s 2ms/step - loss: 170.2003 - I_var: 0.1634 - val_loss: 168.2200 - val_I_var: 0.1806\n",
      "Epoch 144/1000\n",
      "92/92 [==============================] - 0s 3ms/step - loss: 169.5888 - I_var: 0.1550 - val_loss: 168.1595 - val_I_var: 0.1811\n",
      "Epoch 145/1000\n",
      "92/92 [==============================] - 0s 3ms/step - loss: 168.9607 - I_var: 0.1577 - val_loss: 168.0966 - val_I_var: 0.1815\n",
      "Epoch 146/1000\n",
      "92/92 [==============================] - 0s 3ms/step - loss: 171.0692 - I_var: 0.1650 - val_loss: 168.0085 - val_I_var: 0.1822\n",
      "Epoch 147/1000\n",
      "92/92 [==============================] - 0s 3ms/step - loss: 172.8908 - I_var: 0.1656 - val_loss: 168.1866 - val_I_var: 0.1808\n",
      "Epoch 148/1000\n",
      "92/92 [==============================] - 0s 4ms/step - loss: 172.3642 - I_var: 0.1587 - val_loss: 168.1484 - val_I_var: 0.1813\n",
      "Epoch 149/1000\n",
      "92/92 [==============================] - 0s 3ms/step - loss: 172.0431 - I_var: 0.1643 - val_loss: 167.9453 - val_I_var: 0.1827\n",
      "Epoch 150/1000\n",
      "92/92 [==============================] - 0s 3ms/step - loss: 168.7406 - I_var: 0.1632 - val_loss: 167.9875 - val_I_var: 0.1822\n",
      "Epoch 151/1000\n",
      "92/92 [==============================] - 0s 2ms/step - loss: 169.4476 - I_var: 0.1648 - val_loss: 167.8336 - val_I_var: 0.1834\n",
      "Epoch 152/1000\n",
      "92/92 [==============================] - 0s 3ms/step - loss: 170.2455 - I_var: 0.1673 - val_loss: 167.7714 - val_I_var: 0.1840\n",
      "Epoch 153/1000\n",
      "92/92 [==============================] - 0s 2ms/step - loss: 169.3722 - I_var: 0.1614 - val_loss: 167.6975 - val_I_var: 0.1847\n",
      "Epoch 154/1000\n",
      "92/92 [==============================] - 0s 2ms/step - loss: 170.5662 - I_var: 0.1653 - val_loss: 167.6848 - val_I_var: 0.1848\n",
      "Epoch 155/1000\n",
      "92/92 [==============================] - 0s 2ms/step - loss: 168.6796 - I_var: 0.1678 - val_loss: 167.8331 - val_I_var: 0.1833\n",
      "Epoch 156/1000\n",
      "92/92 [==============================] - 0s 2ms/step - loss: 166.7317 - I_var: 0.1590 - val_loss: 167.7269 - val_I_var: 0.1843\n",
      "Epoch 157/1000\n",
      "92/92 [==============================] - 0s 3ms/step - loss: 169.0594 - I_var: 0.1654 - val_loss: 167.6586 - val_I_var: 0.1848\n",
      "Epoch 158/1000\n",
      "92/92 [==============================] - 0s 2ms/step - loss: 170.4701 - I_var: 0.1644 - val_loss: 167.4752 - val_I_var: 0.1865\n",
      "Epoch 159/1000\n",
      "92/92 [==============================] - 0s 2ms/step - loss: 170.9951 - I_var: 0.1684 - val_loss: 167.4224 - val_I_var: 0.1867\n",
      "Epoch 160/1000\n",
      "92/92 [==============================] - 0s 3ms/step - loss: 169.9340 - I_var: 0.1633 - val_loss: 167.6544 - val_I_var: 0.1849\n",
      "Epoch 161/1000\n",
      "92/92 [==============================] - 0s 2ms/step - loss: 169.7437 - I_var: 0.1616 - val_loss: 167.3378 - val_I_var: 0.1875\n",
      "Epoch 162/1000\n",
      "92/92 [==============================] - 0s 3ms/step - loss: 169.8179 - I_var: 0.1639 - val_loss: 167.2962 - val_I_var: 0.1878\n",
      "Epoch 163/1000\n",
      "92/92 [==============================] - 0s 2ms/step - loss: 172.9638 - I_var: 0.1717 - val_loss: 167.2039 - val_I_var: 0.1885\n",
      "Epoch 164/1000\n",
      "92/92 [==============================] - 0s 2ms/step - loss: 168.3118 - I_var: 0.1746 - val_loss: 167.1655 - val_I_var: 0.1887\n",
      "Epoch 165/1000\n",
      "92/92 [==============================] - 0s 3ms/step - loss: 167.8130 - I_var: 0.1643 - val_loss: 167.1858 - val_I_var: 0.1885\n",
      "Epoch 166/1000\n",
      "92/92 [==============================] - 0s 2ms/step - loss: 169.5237 - I_var: 0.1683 - val_loss: 167.0602 - val_I_var: 0.1897\n",
      "Epoch 167/1000\n",
      "92/92 [==============================] - 0s 3ms/step - loss: 170.5785 - I_var: 0.1611 - val_loss: 166.9784 - val_I_var: 0.1902\n",
      "Epoch 168/1000\n",
      "92/92 [==============================] - 0s 2ms/step - loss: 169.2656 - I_var: 0.1727 - val_loss: 166.9535 - val_I_var: 0.1905\n",
      "Epoch 169/1000\n",
      "92/92 [==============================] - 0s 2ms/step - loss: 166.8524 - I_var: 0.1777 - val_loss: 166.8932 - val_I_var: 0.1909\n",
      "Epoch 170/1000\n",
      "92/92 [==============================] - 0s 2ms/step - loss: 166.3935 - I_var: 0.1681 - val_loss: 166.8817 - val_I_var: 0.1913\n",
      "Epoch 171/1000\n",
      "92/92 [==============================] - 0s 2ms/step - loss: 170.6035 - I_var: 0.1720 - val_loss: 166.7350 - val_I_var: 0.1923\n",
      "Epoch 172/1000\n",
      "92/92 [==============================] - 0s 2ms/step - loss: 168.3935 - I_var: 0.1740 - val_loss: 166.6257 - val_I_var: 0.1931\n",
      "Epoch 173/1000\n",
      "92/92 [==============================] - 0s 2ms/step - loss: 168.7950 - I_var: 0.1740 - val_loss: 166.5976 - val_I_var: 0.1935\n",
      "Epoch 174/1000\n",
      "92/92 [==============================] - 0s 3ms/step - loss: 168.7929 - I_var: 0.1773 - val_loss: 166.4152 - val_I_var: 0.1947\n"
     ]
    },
    {
     "name": "stdout",
     "output_type": "stream",
     "text": [
      "Epoch 175/1000\n",
      "92/92 [==============================] - 0s 3ms/step - loss: 170.1302 - I_var: 0.1723 - val_loss: 166.3377 - val_I_var: 0.1953\n",
      "Epoch 176/1000\n",
      "92/92 [==============================] - 0s 2ms/step - loss: 169.3382 - I_var: 0.1769 - val_loss: 166.1789 - val_I_var: 0.1965\n",
      "Epoch 177/1000\n",
      "92/92 [==============================] - 0s 2ms/step - loss: 170.4458 - I_var: 0.1766 - val_loss: 166.2399 - val_I_var: 0.1965\n",
      "Epoch 178/1000\n",
      "92/92 [==============================] - 0s 2ms/step - loss: 170.2607 - I_var: 0.1755 - val_loss: 165.9428 - val_I_var: 0.1984\n",
      "Epoch 179/1000\n",
      "92/92 [==============================] - 0s 2ms/step - loss: 169.0112 - I_var: 0.1771 - val_loss: 165.8419 - val_I_var: 0.1991\n",
      "Epoch 180/1000\n",
      "92/92 [==============================] - 0s 2ms/step - loss: 169.9691 - I_var: 0.1835 - val_loss: 165.6938 - val_I_var: 0.2001\n",
      "Epoch 181/1000\n",
      "92/92 [==============================] - 0s 2ms/step - loss: 167.9226 - I_var: 0.1747 - val_loss: 165.5375 - val_I_var: 0.2012\n",
      "Epoch 182/1000\n",
      "92/92 [==============================] - 0s 2ms/step - loss: 167.9676 - I_var: 0.1819 - val_loss: 165.3679 - val_I_var: 0.2028\n",
      "Epoch 183/1000\n",
      "92/92 [==============================] - 0s 2ms/step - loss: 167.2217 - I_var: 0.1823 - val_loss: 165.0711 - val_I_var: 0.2046\n",
      "Epoch 184/1000\n",
      "92/92 [==============================] - 0s 2ms/step - loss: 168.3353 - I_var: 0.1903 - val_loss: 164.9042 - val_I_var: 0.2060\n",
      "Epoch 185/1000\n",
      "92/92 [==============================] - 0s 2ms/step - loss: 169.5464 - I_var: 0.1843 - val_loss: 164.5875 - val_I_var: 0.2083\n",
      "Epoch 186/1000\n",
      "92/92 [==============================] - 0s 2ms/step - loss: 167.2428 - I_var: 0.1874 - val_loss: 164.2359 - val_I_var: 0.2111\n",
      "Epoch 187/1000\n",
      "92/92 [==============================] - 0s 2ms/step - loss: 163.8091 - I_var: 0.1905 - val_loss: 163.9749 - val_I_var: 0.2129\n",
      "Epoch 188/1000\n",
      "92/92 [==============================] - 0s 2ms/step - loss: 167.0834 - I_var: 0.1986 - val_loss: 163.5882 - val_I_var: 0.2158\n",
      "Epoch 189/1000\n",
      "92/92 [==============================] - 0s 2ms/step - loss: 167.3402 - I_var: 0.1977 - val_loss: 162.8072 - val_I_var: 0.2211\n",
      "Epoch 190/1000\n",
      "92/92 [==============================] - 0s 2ms/step - loss: 163.6012 - I_var: 0.1995 - val_loss: 162.6566 - val_I_var: 0.2219\n",
      "Epoch 191/1000\n",
      "92/92 [==============================] - 0s 2ms/step - loss: 163.6481 - I_var: 0.2098 - val_loss: 161.1046 - val_I_var: 0.2326\n",
      "Epoch 192/1000\n",
      "92/92 [==============================] - 0s 2ms/step - loss: 162.2253 - I_var: 0.2090 - val_loss: 161.0559 - val_I_var: 0.2327\n",
      "Epoch 193/1000\n",
      "92/92 [==============================] - 0s 3ms/step - loss: 162.2719 - I_var: 0.2194 - val_loss: 160.9398 - val_I_var: 0.2334\n",
      "Epoch 194/1000\n",
      "92/92 [==============================] - 0s 2ms/step - loss: 164.0799 - I_var: 0.2106 - val_loss: 160.9687 - val_I_var: 0.2334\n",
      "Epoch 195/1000\n",
      "92/92 [==============================] - 0s 2ms/step - loss: 162.6648 - I_var: 0.2216 - val_loss: 160.8498 - val_I_var: 0.2339\n",
      "Epoch 196/1000\n",
      "92/92 [==============================] - 0s 2ms/step - loss: 164.4365 - I_var: 0.2231 - val_loss: 161.4437 - val_I_var: 0.2297\n",
      "Epoch 197/1000\n",
      "92/92 [==============================] - 0s 2ms/step - loss: 162.9116 - I_var: 0.2134 - val_loss: 160.7361 - val_I_var: 0.2350\n",
      "Epoch 198/1000\n",
      "92/92 [==============================] - 0s 2ms/step - loss: 164.2330 - I_var: 0.2206 - val_loss: 160.6515 - val_I_var: 0.2354\n",
      "Epoch 199/1000\n",
      "92/92 [==============================] - 0s 2ms/step - loss: 162.5456 - I_var: 0.2160 - val_loss: 160.6672 - val_I_var: 0.2353\n",
      "Epoch 200/1000\n",
      "92/92 [==============================] - 0s 2ms/step - loss: 163.7659 - I_var: 0.2115 - val_loss: 160.6112 - val_I_var: 0.2359\n",
      "Epoch 201/1000\n",
      "92/92 [==============================] - 0s 3ms/step - loss: 161.6597 - I_var: 0.2151 - val_loss: 161.1862 - val_I_var: 0.2314\n",
      "Epoch 202/1000\n",
      "92/92 [==============================] - 0s 2ms/step - loss: 165.0102 - I_var: 0.2156 - val_loss: 160.6767 - val_I_var: 0.2352\n",
      "Epoch 203/1000\n",
      "92/92 [==============================] - 0s 2ms/step - loss: 164.0045 - I_var: 0.2211 - val_loss: 160.7826 - val_I_var: 0.2346\n",
      "Epoch 204/1000\n",
      "92/92 [==============================] - 0s 2ms/step - loss: 162.3627 - I_var: 0.2169 - val_loss: 160.8210 - val_I_var: 0.2346\n",
      "Epoch 205/1000\n",
      "92/92 [==============================] - 0s 2ms/step - loss: 162.5416 - I_var: 0.2205 - val_loss: 160.7652 - val_I_var: 0.2347\n",
      "Epoch 206/1000\n",
      "92/92 [==============================] - 0s 4ms/step - loss: 161.7991 - I_var: 0.2243 - val_loss: 160.9038 - val_I_var: 0.2334\n",
      "Epoch 207/1000\n",
      "92/92 [==============================] - 0s 3ms/step - loss: 164.0445 - I_var: 0.2190 - val_loss: 160.8718 - val_I_var: 0.2338\n",
      "Epoch 208/1000\n",
      "92/92 [==============================] - 0s 2ms/step - loss: 160.9694 - I_var: 0.2194 - val_loss: 160.6484 - val_I_var: 0.2359\n",
      "Epoch 209/1000\n",
      "92/92 [==============================] - 0s 3ms/step - loss: 163.8054 - I_var: 0.2190 - val_loss: 160.7186 - val_I_var: 0.2353\n",
      "Epoch 210/1000\n",
      "92/92 [==============================] - 0s 3ms/step - loss: 160.2983 - I_var: 0.2216 - val_loss: 160.6569 - val_I_var: 0.2357\n",
      "Epoch 211/1000\n",
      "92/92 [==============================] - 0s 3ms/step - loss: 161.9971 - I_var: 0.2224 - val_loss: 160.6729 - val_I_var: 0.2357\n",
      "Epoch 212/1000\n",
      "92/92 [==============================] - 0s 3ms/step - loss: 161.4246 - I_var: 0.2241 - val_loss: 160.7316 - val_I_var: 0.2351\n",
      "Epoch 213/1000\n",
      "92/92 [==============================] - 1s 6ms/step - loss: 161.8181 - I_var: 0.2236 - val_loss: 160.5647 - val_I_var: 0.2365\n",
      "Epoch 214/1000\n",
      "92/92 [==============================] - 0s 3ms/step - loss: 159.8494 - I_var: 0.2233 - val_loss: 160.5693 - val_I_var: 0.2364\n",
      "Epoch 215/1000\n",
      "92/92 [==============================] - 0s 3ms/step - loss: 162.9850 - I_var: 0.2130 - val_loss: 160.5289 - val_I_var: 0.2365\n",
      "Epoch 216/1000\n",
      "92/92 [==============================] - 0s 3ms/step - loss: 162.6425 - I_var: 0.2180 - val_loss: 160.5538 - val_I_var: 0.2362\n",
      "Epoch 217/1000\n",
      "92/92 [==============================] - 0s 3ms/step - loss: 159.9459 - I_var: 0.2209 - val_loss: 160.6798 - val_I_var: 0.2353\n",
      "Epoch 218/1000\n",
      "92/92 [==============================] - 0s 3ms/step - loss: 160.7236 - I_var: 0.2211 - val_loss: 160.5137 - val_I_var: 0.2366\n",
      "Epoch 219/1000\n",
      "92/92 [==============================] - 0s 2ms/step - loss: 163.5205 - I_var: 0.2141 - val_loss: 160.4930 - val_I_var: 0.2366\n",
      "Epoch 220/1000\n",
      "92/92 [==============================] - 0s 2ms/step - loss: 165.1913 - I_var: 0.2157 - val_loss: 160.5250 - val_I_var: 0.2365\n",
      "Epoch 221/1000\n",
      "92/92 [==============================] - 0s 3ms/step - loss: 161.3781 - I_var: 0.2167 - val_loss: 160.7512 - val_I_var: 0.2348\n",
      "Epoch 222/1000\n",
      "92/92 [==============================] - 0s 3ms/step - loss: 165.4618 - I_var: 0.2254 - val_loss: 160.6140 - val_I_var: 0.2361\n",
      "Epoch 223/1000\n",
      "92/92 [==============================] - 0s 3ms/step - loss: 164.8486 - I_var: 0.2228 - val_loss: 160.8561 - val_I_var: 0.2340\n",
      "Epoch 224/1000\n",
      "92/92 [==============================] - 0s 3ms/step - loss: 162.5489 - I_var: 0.2198 - val_loss: 160.8167 - val_I_var: 0.2342\n",
      "Epoch 225/1000\n",
      "92/92 [==============================] - 0s 3ms/step - loss: 163.7555 - I_var: 0.2211 - val_loss: 160.6130 - val_I_var: 0.2360\n",
      "Epoch 226/1000\n",
      "92/92 [==============================] - 0s 2ms/step - loss: 161.5079 - I_var: 0.2164 - val_loss: 160.5927 - val_I_var: 0.2360\n",
      "Epoch 227/1000\n",
      "92/92 [==============================] - 0s 3ms/step - loss: 161.3970 - I_var: 0.2245 - val_loss: 160.7147 - val_I_var: 0.2348\n",
      "Epoch 228/1000\n",
      "92/92 [==============================] - 0s 3ms/step - loss: 163.5092 - I_var: 0.2190 - val_loss: 160.8414 - val_I_var: 0.2339\n",
      "Epoch 229/1000\n",
      "92/92 [==============================] - 0s 3ms/step - loss: 161.6713 - I_var: 0.2206 - val_loss: 160.6231 - val_I_var: 0.2359\n",
      "Epoch 230/1000\n",
      "92/92 [==============================] - 0s 3ms/step - loss: 162.5349 - I_var: 0.2182 - val_loss: 160.5243 - val_I_var: 0.2365\n",
      "Epoch 231/1000\n",
      "92/92 [==============================] - 0s 3ms/step - loss: 164.8950 - I_var: 0.2173 - val_loss: 161.0960 - val_I_var: 0.2321\n",
      "Epoch 232/1000\n",
      "92/92 [==============================] - 0s 3ms/step - loss: 162.0957 - I_var: 0.2085 - val_loss: 160.5864 - val_I_var: 0.2360\n"
     ]
    },
    {
     "name": "stdout",
     "output_type": "stream",
     "text": [
      "Epoch 233/1000\n",
      "92/92 [==============================] - 0s 3ms/step - loss: 163.5204 - I_var: 0.2156 - val_loss: 160.6939 - val_I_var: 0.2354\n",
      "Epoch 234/1000\n",
      "92/92 [==============================] - 0s 3ms/step - loss: 165.3879 - I_var: 0.2229 - val_loss: 160.7825 - val_I_var: 0.2344\n",
      "Epoch 235/1000\n",
      "92/92 [==============================] - 0s 3ms/step - loss: 164.1775 - I_var: 0.2209 - val_loss: 160.5640 - val_I_var: 0.2362\n",
      "Epoch 236/1000\n",
      "92/92 [==============================] - 0s 3ms/step - loss: 163.0026 - I_var: 0.2222 - val_loss: 160.6922 - val_I_var: 0.2352\n",
      "Epoch 237/1000\n",
      "92/92 [==============================] - 0s 2ms/step - loss: 162.8688 - I_var: 0.2200 - val_loss: 160.5674 - val_I_var: 0.2362\n",
      "Epoch 238/1000\n",
      "92/92 [==============================] - 0s 3ms/step - loss: 162.8433 - I_var: 0.2228 - val_loss: 160.5302 - val_I_var: 0.2366\n",
      "Epoch 239/1000\n",
      "92/92 [==============================] - 0s 2ms/step - loss: 163.1470 - I_var: 0.2201 - val_loss: 160.6142 - val_I_var: 0.2361\n",
      "Epoch 240/1000\n",
      "92/92 [==============================] - 0s 2ms/step - loss: 162.6784 - I_var: 0.2184 - val_loss: 160.6256 - val_I_var: 0.2358\n",
      "Epoch 241/1000\n",
      "92/92 [==============================] - 0s 3ms/step - loss: 162.9601 - I_var: 0.2242 - val_loss: 161.0566 - val_I_var: 0.2323\n",
      "Epoch 242/1000\n",
      "92/92 [==============================] - 0s 2ms/step - loss: 162.3290 - I_var: 0.2251 - val_loss: 160.5274 - val_I_var: 0.2365\n",
      "Epoch 243/1000\n",
      "92/92 [==============================] - 0s 2ms/step - loss: 164.3187 - I_var: 0.2193 - val_loss: 160.8521 - val_I_var: 0.2339\n",
      "Epoch 244/1000\n",
      "92/92 [==============================] - 0s 2ms/step - loss: 162.9302 - I_var: 0.2127 - val_loss: 160.7265 - val_I_var: 0.2350\n",
      "Training time: 68.0 seconds\n"
     ]
    },
    {
     "data": {
      "text/plain": [
       "<tensorflow.python.keras.callbacks.History at 0x14ae60208>"
      ]
     },
     "execution_count": 6,
     "metadata": {},
     "output_type": "execute_result"
    }
   ],
   "source": [
    "# Fit model to data\n",
    "model.fit(learning_rate=.001,\n",
    "          epochs=1000,\n",
    "          batch_size=200,\n",
    "          early_stopping=True,\n",
    "          early_stopping_patience=25,\n",
    "          linear_initialization=False)"
   ]
  },
  {
   "cell_type": "code",
   "execution_count": 7,
   "metadata": {
    "ExecuteTime": {
     "end_time": "2020-11-17T18:19:26.082855Z",
     "start_time": "2020-11-17T18:19:26.021556Z"
    },
    "collapsed": true
   },
   "outputs": [],
   "source": [
    "# Save model\n",
    "#model.save('mpsa_ge_additive')"
   ]
  },
  {
   "cell_type": "code",
   "execution_count": 8,
   "metadata": {
    "ExecuteTime": {
     "end_time": "2020-11-17T18:19:26.337587Z",
     "start_time": "2020-11-17T18:19:26.086861Z"
    },
    "collapsed": true,
    "scrolled": true
   },
   "outputs": [],
   "source": [
    "# Load model\n",
    "#model = mavenn.load('mpsa_ge_additive')"
   ]
  },
  {
   "cell_type": "code",
   "execution_count": 9,
   "metadata": {
    "ExecuteTime": {
     "end_time": "2020-11-17T18:19:26.347901Z",
     "start_time": "2020-11-17T18:19:26.340045Z"
    },
    "collapsed": true
   },
   "outputs": [],
   "source": [
    "# Get x and y\n",
    "x_test = test_df['x'].values\n",
    "y_test = test_df['y'].values"
   ]
  },
  {
   "cell_type": "code",
   "execution_count": 10,
   "metadata": {
    "ExecuteTime": {
     "end_time": "2020-11-17T18:19:27.246062Z",
     "start_time": "2020-11-17T18:19:26.350360Z"
    }
   },
   "outputs": [
    {
     "name": "stdout",
     "output_type": "stream",
     "text": [
      "On test data:\n"
     ]
    },
    {
     "data": {
      "text/plain": [
       "Text(0.5, 1.0, 'training hisotry')"
      ]
     },
     "execution_count": 10,
     "metadata": {},
     "output_type": "execute_result"
    },
    {
     "data": {
      "image/png": "[encoded data removed]",
      "text/plain": [
       "<Figure size 288x288 with 1 Axes>"
      ]
     },
     "metadata": {
      "needs_background": "light"
     },
     "output_type": "display_data"
    }
   ],
   "source": [
    "# Show training history\n",
    "print('On test data:')\n",
    "\n",
    "# Compute variational information\n",
    "#I_var, dI_var =  model.I_variational(x=x_test, y=y_test)\n",
    "#print(f'I_var_test: {I_var:.3f} +- {dI_var:.3f} bits') \n",
    "\n",
    "# Compute predictive information\n",
    "#I_pred, dI_pred = model.I_predictive(x=x_test, y=y_test)\n",
    "#print(f'I_pred_test: {I_pred:.3f} +- {dI_pred:.3f} bits')\n",
    "\n",
    "I_var_hist = model.history['I_var']\n",
    "val_I_var_hist = model.history['val_I_var']\n",
    "\n",
    "fig, ax = plt.subplots(1,1,figsize=[4,4])\n",
    "ax.plot(I_var_hist, label='I_var_train')\n",
    "ax.plot(val_I_var_hist, label='I_var_val')\n",
    "#ax.axhline(I_var, color='C2', linestyle=':', label='I_var_test')\n",
    "#ax.axhline(I_pred, color='C3', linestyle=':', label='I_pred_test')\n",
    "ax.legend()\n",
    "ax.set_xlabel('epochs')\n",
    "ax.set_ylabel('bits')\n",
    "ax.set_title('training hisotry')\n",
    "#ax.set_ylim([0, I_pred*1.2]);"
   ]
  },
  {
   "cell_type": "code",
   "execution_count": 11,
   "metadata": {},
   "outputs": [
    {
     "data": {
      "text/plain": [
       "(0.21399246911904735, 0.028932906641218066)"
      ]
     },
     "execution_count": 11,
     "metadata": {},
     "output_type": "execute_result"
    }
   ],
   "source": [
    "model.I_variational(x_test, y_test)"
   ]
  },
  {
   "cell_type": "code",
   "execution_count": 15,
   "metadata": {},
   "outputs": [
    {
     "data": {
      "text/plain": [
       "Text(0, 0.5, 'y test')"
      ]
     },
     "execution_count": 15,
     "metadata": {},
     "output_type": "execute_result"
    },
    {
     "data": {
      "image/png": "[encoded data removed]",
      "text/plain": [
       "<Figure size 432x288 with 1 Axes>"
      ]
     },
     "metadata": {
      "needs_background": "light"
     },
     "output_type": "display_data"
    }
   ],
   "source": [
    "Rsq = str(np.corrcoef(model.x_to_yhat(x_test),y_test)[0][1]**2)\n",
    "plt.scatter(model.x_to_yhat(x_test),y_test,s=5,alpha=0.8,c='C0')\n",
    "plt.title(f'$R^2 =${Rsq[0:5]}')\n",
    "plt.xlabel('$\\hat{y}$')\n",
    "plt.ylabel('y test')"
   ]
  },
  {
   "cell_type": "code",
   "execution_count": 14,
   "metadata": {},
   "outputs": [
    {
     "name": "stdout",
     "output_type": "stream",
     "text": [
      "Model: \"model\"\n",
      "__________________________________________________________________________________________________\n",
      "Layer (type)                    Output Shape         Param #     Connected to                     \n",
      "==================================================================================================\n",
      "Sequence_labels_input (InputLay [(None, 37)]         0                                            \n",
      "__________________________________________________________________________________________________\n",
      "Sequence_only (Lambda)          (None, 36)           0           Sequence_labels_input[0][0]      \n",
      "__________________________________________________________________________________________________\n",
      "multi__additive_gp_map_layer (M (None, 3)            111         Sequence_only[0][0]              \n",
      "__________________________________________________________________________________________________\n",
      "multi_phi_global_epistasis_laye (None, 1)            251         multi__additive_gp_map_layer[0][0\n",
      "__________________________________________________________________________________________________\n",
      "Labels_input (Lambda)           (None, 1)            0           Sequence_labels_input[0][0]      \n",
      "__________________________________________________________________________________________________\n",
      "yhat_and_y_to_ll (Concatenate)  (None, 2)            0           multi_phi_global_epistasis_layer[\n",
      "                                                                 Labels_input[0][0]               \n",
      "__________________________________________________________________________________________________\n",
      "skewed_t_noise_model_layer (Ske (None, 1)            9           yhat_and_y_to_ll[0][0]           \n",
      "==================================================================================================\n",
      "Total params: 371\n",
      "Trainable params: 371\n",
      "Non-trainable params: 0\n",
      "__________________________________________________________________________________________________\n"
     ]
    }
   ],
   "source": [
    "model.get_nn().summary()"
   ]
  },
  {
   "cell_type": "code",
   "execution_count": null,
   "metadata": {
    "collapsed": true
   },
   "outputs": [],
   "source": []
  }
 ],
 "metadata": {
  "kernelspec": {
   "display_name": "Python 3",
   "language": "python",
   "name": "python3"
  },
  "language_info": {
   "codemirror_mode": {
    "name": "ipython",
    "version": 3
   },
   "file_extension": ".py",
   "mimetype": "text/x-python",
   "name": "python",
   "nbconvert_exporter": "python",
   "pygments_lexer": "ipython3",
   "version": "3.6.7"
  },
  "toc": {
   "base_numbering": 1,
   "nav_menu": {},
   "number_sections": true,
   "sideBar": true,
   "skip_h1_title": false,
   "title_cell": "Table of Contents",
   "title_sidebar": "Contents",
   "toc_cell": false,
   "toc_position": {},
   "toc_section_display": true,
   "toc_window_display": false
  },
  "varInspector": {
   "cols": {
    "lenName": 16,
    "lenType": 16,
    "lenVar": 40
   },
   "kernels_config": {
    "python": {
     "delete_cmd_postfix": "",
     "delete_cmd_prefix": "del ",
     "library": "var_list.py",
     "varRefreshCmd": "print(var_dic_list())"
    },
    "r": {
     "delete_cmd_postfix": ") ",
     "delete_cmd_prefix": "rm(",
     "library": "var_list.r",
     "varRefreshCmd": "cat(var_dic_list()) "
    }
   },
   "types_to_exclude": [
    "module",
    "function",
    "builtin_function_or_method",
    "instance",
    "_Feature"
   ],
   "window_display": false
  }
 },
 "nbformat": 4,
 "nbformat_minor": 2
}
