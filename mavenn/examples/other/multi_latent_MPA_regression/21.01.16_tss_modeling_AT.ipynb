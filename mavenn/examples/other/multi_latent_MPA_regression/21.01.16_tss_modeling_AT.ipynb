{
 "cells": [
  {
   "cell_type": "code",
   "execution_count": 1,
   "metadata": {
    "ExecuteTime": {
     "end_time": "2021-01-16T20:49:56.927963Z",
     "start_time": "2021-01-16T20:49:49.317702Z"
    }
   },
   "outputs": [
    {
     "name": "stdout",
     "output_type": "stream",
     "text": [
      "['/Users/tareen/Desktop/Research_Projects/2020_mavenn_github/mavenn_local/mavenn']\n"
     ]
    }
   ],
   "source": [
    "import numpy as np\n",
    "import pandas as pd\n",
    "import matplotlib.pyplot as plt\n",
    "\n",
    "import sys\n",
    "sys.path.insert(0, '/Users/tareen/Desktop/Research_Projects/2020_mavenn_github/mavenn_local')\n",
    "\n",
    "import mavenn\n",
    "print(mavenn.__path__)\n",
    "import logomaker\n",
    "import seaborn as sns\n",
    "import re"
   ]
  },
  {
   "cell_type": "markdown",
   "metadata": {},
   "source": [
    "**From Jared Winkelman's emails (20.12.22):**\n",
    "\n",
    "Here are the data. Let me know if anything is confusing. There are three replicates in the sample column (KS112-KS114), p4 to p10 stand for reads at position 4 to position 10 of the N10 region. There are 4 different treatments. We have always compared the 'All_end' to the 'PPP+P' and the 'OH+P' to the 'background'. If you have any quick questions you can email me or text me at 512-689-9468 and I will try to reply promptly. \n",
    "\n",
    "\n",
    "- \"background\" was made by direct ligation to 5’ Adaptor (will ligate to any 5' monophosphate-containing RNAs)\n",
    "- \"OH+P\" = treatment with T4 PNK (kinase OH with P) followed by ligation to 5’ ad\n",
    "- \"PPP+P\" = treatment with RNA polyphosphatase (trim beta and gamma P from 5’ end) followed by ligation to 5’ ad\n",
    "- \"All_end\" = rna polyphosphatase treatment, then T4 PNK, and lastly followed by 5’ ad ligation "
   ]
  },
  {
   "cell_type": "code",
   "execution_count": 2,
   "metadata": {
    "ExecuteTime": {
     "end_time": "2021-01-16T20:50:16.215702Z",
     "start_time": "2021-01-16T20:49:56.984844Z"
    }
   },
   "outputs": [
    {
     "data": {
      "text/html": [
       "<div>\n",
       "<style scoped>\n",
       "    .dataframe tbody tr th:only-of-type {\n",
       "        vertical-align: middle;\n",
       "    }\n",
       "\n",
       "    .dataframe tbody tr th {\n",
       "        vertical-align: top;\n",
       "    }\n",
       "\n",
       "    .dataframe thead th {\n",
       "        text-align: right;\n",
       "    }\n",
       "</style>\n",
       "<table border=\"1\" class=\"dataframe\">\n",
       "  <thead>\n",
       "    <tr style=\"text-align: right;\">\n",
       "      <th></th>\n",
       "      <th>N10</th>\n",
       "      <th>treatment</th>\n",
       "      <th>sample</th>\n",
       "      <th>DNA</th>\n",
       "      <th>p4</th>\n",
       "      <th>p5</th>\n",
       "      <th>p6</th>\n",
       "      <th>p7</th>\n",
       "      <th>p8</th>\n",
       "      <th>p9</th>\n",
       "      <th>p10</th>\n",
       "    </tr>\n",
       "  </thead>\n",
       "  <tbody>\n",
       "    <tr>\n",
       "      <th>0</th>\n",
       "      <td>AAAAAAAAAA</td>\n",
       "      <td>PNK+RPP</td>\n",
       "      <td>rep1</td>\n",
       "      <td>18</td>\n",
       "      <td>0</td>\n",
       "      <td>0</td>\n",
       "      <td>0</td>\n",
       "      <td>0</td>\n",
       "      <td>0</td>\n",
       "      <td>0</td>\n",
       "      <td>0</td>\n",
       "    </tr>\n",
       "    <tr>\n",
       "      <th>1</th>\n",
       "      <td>AAAAAAAAAC</td>\n",
       "      <td>PNK+RPP</td>\n",
       "      <td>rep1</td>\n",
       "      <td>41</td>\n",
       "      <td>0</td>\n",
       "      <td>0</td>\n",
       "      <td>0</td>\n",
       "      <td>0</td>\n",
       "      <td>0</td>\n",
       "      <td>0</td>\n",
       "      <td>0</td>\n",
       "    </tr>\n",
       "    <tr>\n",
       "      <th>2</th>\n",
       "      <td>AAAAAAAAAG</td>\n",
       "      <td>PNK+RPP</td>\n",
       "      <td>rep1</td>\n",
       "      <td>38</td>\n",
       "      <td>0</td>\n",
       "      <td>0</td>\n",
       "      <td>0</td>\n",
       "      <td>0</td>\n",
       "      <td>0</td>\n",
       "      <td>0</td>\n",
       "      <td>0</td>\n",
       "    </tr>\n",
       "    <tr>\n",
       "      <th>3</th>\n",
       "      <td>AAAAAAAAAT</td>\n",
       "      <td>PNK+RPP</td>\n",
       "      <td>rep1</td>\n",
       "      <td>30</td>\n",
       "      <td>0</td>\n",
       "      <td>0</td>\n",
       "      <td>0</td>\n",
       "      <td>0</td>\n",
       "      <td>0</td>\n",
       "      <td>0</td>\n",
       "      <td>0</td>\n",
       "    </tr>\n",
       "    <tr>\n",
       "      <th>4</th>\n",
       "      <td>AAAAAAAACA</td>\n",
       "      <td>PNK+RPP</td>\n",
       "      <td>rep1</td>\n",
       "      <td>14</td>\n",
       "      <td>0</td>\n",
       "      <td>0</td>\n",
       "      <td>0</td>\n",
       "      <td>0</td>\n",
       "      <td>0</td>\n",
       "      <td>0</td>\n",
       "      <td>0</td>\n",
       "    </tr>\n",
       "  </tbody>\n",
       "</table>\n",
       "</div>"
      ],
      "text/plain": [
       "          N10 treatment sample  DNA  p4  p5  p6  p7  p8  p9  p10\n",
       "0  AAAAAAAAAA   PNK+RPP   rep1   18   0   0   0   0   0   0    0\n",
       "1  AAAAAAAAAC   PNK+RPP   rep1   41   0   0   0   0   0   0    0\n",
       "2  AAAAAAAAAG   PNK+RPP   rep1   38   0   0   0   0   0   0    0\n",
       "3  AAAAAAAAAT   PNK+RPP   rep1   30   0   0   0   0   0   0    0\n",
       "4  AAAAAAAACA   PNK+RPP   rep1   14   0   0   0   0   0   0    0"
      ]
     },
     "execution_count": 2,
     "metadata": {},
     "output_type": "execute_result"
    }
   ],
   "source": [
    "# Load Bryce's data\n",
    "data_df = pd.read_csv('data/Nano_RNA_in_vivo.csv')\n",
    "\n",
    "# Rename columns and samples for added convenience\n",
    "data_df.rename(columns={'DNA count':'DNA'}, inplace=True)\n",
    "data_df['treatment'] = np.where(data_df['treatment']=='All_end', 'all', data_df['treatment'])\n",
    "data_df['treatment'] = np.where(data_df['treatment']=='background', 'P', data_df['treatment'])\n",
    "\n",
    "#Rename treatment and replicates\n",
    "data_df['treatment'] = data_df['treatment'].map({'P':'none', \n",
    "                                                 'PPP+P':'RPP', \n",
    "                                                 'OH+P':'PNK', \n",
    "                                                 'all':'PNK+RPP'})\n",
    "data_df['sample'] = data_df['sample'].map({'KS112':'rep1', \n",
    "                                           'KS113':'rep2', \n",
    "                                           'KS114':'rep3'})\n",
    "data_df.head()"
   ]
  },
  {
   "cell_type": "code",
   "execution_count": 3,
   "metadata": {
    "ExecuteTime": {
     "end_time": "2021-01-16T20:50:20.971617Z",
     "start_time": "2021-01-16T20:50:16.374686Z"
    },
    "code_folding": []
   },
   "outputs": [
    {
     "data": {
      "text/html": [
       "<div>\n",
       "<style scoped>\n",
       "    .dataframe tbody tr th:only-of-type {\n",
       "        vertical-align: middle;\n",
       "    }\n",
       "\n",
       "    .dataframe tbody tr th {\n",
       "        vertical-align: top;\n",
       "    }\n",
       "\n",
       "    .dataframe thead th {\n",
       "        text-align: right;\n",
       "    }\n",
       "</style>\n",
       "<table border=\"1\" class=\"dataframe\">\n",
       "  <thead>\n",
       "    <tr style=\"text-align: right;\">\n",
       "      <th></th>\n",
       "      <th>p4</th>\n",
       "      <th>p5</th>\n",
       "      <th>p6</th>\n",
       "      <th>p7</th>\n",
       "      <th>p8</th>\n",
       "      <th>p9</th>\n",
       "      <th>p10</th>\n",
       "    </tr>\n",
       "    <tr>\n",
       "      <th>N10</th>\n",
       "      <th></th>\n",
       "      <th></th>\n",
       "      <th></th>\n",
       "      <th></th>\n",
       "      <th></th>\n",
       "      <th></th>\n",
       "      <th></th>\n",
       "    </tr>\n",
       "  </thead>\n",
       "  <tbody>\n",
       "    <tr>\n",
       "      <th>AAAAAAAAAC</th>\n",
       "      <td>0</td>\n",
       "      <td>0</td>\n",
       "      <td>0</td>\n",
       "      <td>1</td>\n",
       "      <td>0</td>\n",
       "      <td>0</td>\n",
       "      <td>1</td>\n",
       "    </tr>\n",
       "    <tr>\n",
       "      <th>AAAAAAAAAT</th>\n",
       "      <td>0</td>\n",
       "      <td>0</td>\n",
       "      <td>0</td>\n",
       "      <td>1</td>\n",
       "      <td>0</td>\n",
       "      <td>0</td>\n",
       "      <td>0</td>\n",
       "    </tr>\n",
       "    <tr>\n",
       "      <th>AAAAAAACAG</th>\n",
       "      <td>0</td>\n",
       "      <td>0</td>\n",
       "      <td>0</td>\n",
       "      <td>1</td>\n",
       "      <td>0</td>\n",
       "      <td>0</td>\n",
       "      <td>0</td>\n",
       "    </tr>\n",
       "    <tr>\n",
       "      <th>AAAAAAACAT</th>\n",
       "      <td>0</td>\n",
       "      <td>0</td>\n",
       "      <td>0</td>\n",
       "      <td>2</td>\n",
       "      <td>0</td>\n",
       "      <td>0</td>\n",
       "      <td>0</td>\n",
       "    </tr>\n",
       "    <tr>\n",
       "      <th>AAAAAAAGAC</th>\n",
       "      <td>0</td>\n",
       "      <td>0</td>\n",
       "      <td>0</td>\n",
       "      <td>3</td>\n",
       "      <td>0</td>\n",
       "      <td>0</td>\n",
       "      <td>0</td>\n",
       "    </tr>\n",
       "    <tr>\n",
       "      <th>...</th>\n",
       "      <td>...</td>\n",
       "      <td>...</td>\n",
       "      <td>...</td>\n",
       "      <td>...</td>\n",
       "      <td>...</td>\n",
       "      <td>...</td>\n",
       "      <td>...</td>\n",
       "    </tr>\n",
       "    <tr>\n",
       "      <th>TTTTTTTTGT</th>\n",
       "      <td>1</td>\n",
       "      <td>0</td>\n",
       "      <td>1</td>\n",
       "      <td>1</td>\n",
       "      <td>1</td>\n",
       "      <td>3</td>\n",
       "      <td>0</td>\n",
       "    </tr>\n",
       "    <tr>\n",
       "      <th>TTTTTTTTTA</th>\n",
       "      <td>1</td>\n",
       "      <td>2</td>\n",
       "      <td>0</td>\n",
       "      <td>0</td>\n",
       "      <td>0</td>\n",
       "      <td>0</td>\n",
       "      <td>1</td>\n",
       "    </tr>\n",
       "    <tr>\n",
       "      <th>TTTTTTTTTC</th>\n",
       "      <td>0</td>\n",
       "      <td>2</td>\n",
       "      <td>2</td>\n",
       "      <td>0</td>\n",
       "      <td>1</td>\n",
       "      <td>0</td>\n",
       "      <td>0</td>\n",
       "    </tr>\n",
       "    <tr>\n",
       "      <th>TTTTTTTTTG</th>\n",
       "      <td>0</td>\n",
       "      <td>0</td>\n",
       "      <td>0</td>\n",
       "      <td>1</td>\n",
       "      <td>0</td>\n",
       "      <td>0</td>\n",
       "      <td>3</td>\n",
       "    </tr>\n",
       "    <tr>\n",
       "      <th>TTTTTTTTTT</th>\n",
       "      <td>0</td>\n",
       "      <td>1</td>\n",
       "      <td>0</td>\n",
       "      <td>0</td>\n",
       "      <td>0</td>\n",
       "      <td>1</td>\n",
       "      <td>0</td>\n",
       "    </tr>\n",
       "  </tbody>\n",
       "</table>\n",
       "<p>681629 rows × 7 columns</p>\n",
       "</div>"
      ],
      "text/plain": [
       "            p4  p5  p6  p7  p8  p9  p10\n",
       "N10                                    \n",
       "AAAAAAAAAC   0   0   0   1   0   0    1\n",
       "AAAAAAAAAT   0   0   0   1   0   0    0\n",
       "AAAAAAACAG   0   0   0   1   0   0    0\n",
       "AAAAAAACAT   0   0   0   2   0   0    0\n",
       "AAAAAAAGAC   0   0   0   3   0   0    0\n",
       "...         ..  ..  ..  ..  ..  ..  ...\n",
       "TTTTTTTTGT   1   0   1   1   1   3    0\n",
       "TTTTTTTTTA   1   2   0   0   0   0    1\n",
       "TTTTTTTTTC   0   2   2   0   1   0    0\n",
       "TTTTTTTTTG   0   0   0   1   0   0    3\n",
       "TTTTTTTTTT   0   1   0   0   0   1    0\n",
       "\n",
       "[681629 rows x 7 columns]"
      ]
     },
     "execution_count": 3,
     "metadata": {},
     "output_type": "execute_result"
    }
   ],
   "source": [
    "# Grab only 'RPP' from 'rep1'\n",
    "replicate='rep1'\n",
    "sample='RPP'\n",
    "cols = [f'p{n}' for n in range(4,11)]\n",
    "ix = (data_df['sample']==replicate) & (data_df['treatment']==sample)\n",
    "df = data_df[ix].copy()\n",
    "\n",
    "# Set index \n",
    "df.set_index('N10', inplace=True, drop=True)\n",
    "\n",
    "# Drop unneeded columns\n",
    "df = df[cols]\n",
    "\n",
    "# Remove rows with zero sum\n",
    "df = df[df.sum(axis=1)>=1]\n",
    "df"
   ]
  },
  {
   "cell_type": "code",
   "execution_count": 4,
   "metadata": {
    "ExecuteTime": {
     "end_time": "2021-01-16T21:01:35.883396Z",
     "start_time": "2021-01-16T21:01:35.781543Z"
    }
   },
   "outputs": [
    {
     "data": {
      "text/html": [
       "<div>\n",
       "<style scoped>\n",
       "    .dataframe tbody tr th:only-of-type {\n",
       "        vertical-align: middle;\n",
       "    }\n",
       "\n",
       "    .dataframe tbody tr th {\n",
       "        vertical-align: top;\n",
       "    }\n",
       "\n",
       "    .dataframe thead th {\n",
       "        text-align: right;\n",
       "    }\n",
       "</style>\n",
       "<table border=\"1\" class=\"dataframe\">\n",
       "  <thead>\n",
       "    <tr style=\"text-align: right;\">\n",
       "      <th></th>\n",
       "      <th>set</th>\n",
       "      <th>p4</th>\n",
       "      <th>p5</th>\n",
       "      <th>p6</th>\n",
       "      <th>p7</th>\n",
       "      <th>p8</th>\n",
       "      <th>p9</th>\n",
       "      <th>p10</th>\n",
       "    </tr>\n",
       "    <tr>\n",
       "      <th>N10</th>\n",
       "      <th></th>\n",
       "      <th></th>\n",
       "      <th></th>\n",
       "      <th></th>\n",
       "      <th></th>\n",
       "      <th></th>\n",
       "      <th></th>\n",
       "      <th></th>\n",
       "    </tr>\n",
       "  </thead>\n",
       "  <tbody>\n",
       "    <tr>\n",
       "      <th>AAAAAAAAAC</th>\n",
       "      <td>training</td>\n",
       "      <td>0</td>\n",
       "      <td>0</td>\n",
       "      <td>0</td>\n",
       "      <td>1</td>\n",
       "      <td>0</td>\n",
       "      <td>0</td>\n",
       "      <td>1</td>\n",
       "    </tr>\n",
       "    <tr>\n",
       "      <th>AAAAAAAAAT</th>\n",
       "      <td>validation</td>\n",
       "      <td>0</td>\n",
       "      <td>0</td>\n",
       "      <td>0</td>\n",
       "      <td>1</td>\n",
       "      <td>0</td>\n",
       "      <td>0</td>\n",
       "      <td>0</td>\n",
       "    </tr>\n",
       "    <tr>\n",
       "      <th>AAAAAAACAG</th>\n",
       "      <td>training</td>\n",
       "      <td>0</td>\n",
       "      <td>0</td>\n",
       "      <td>0</td>\n",
       "      <td>1</td>\n",
       "      <td>0</td>\n",
       "      <td>0</td>\n",
       "      <td>0</td>\n",
       "    </tr>\n",
       "    <tr>\n",
       "      <th>AAAAAAACAT</th>\n",
       "      <td>test</td>\n",
       "      <td>0</td>\n",
       "      <td>0</td>\n",
       "      <td>0</td>\n",
       "      <td>2</td>\n",
       "      <td>0</td>\n",
       "      <td>0</td>\n",
       "      <td>0</td>\n",
       "    </tr>\n",
       "    <tr>\n",
       "      <th>AAAAAAAGAC</th>\n",
       "      <td>training</td>\n",
       "      <td>0</td>\n",
       "      <td>0</td>\n",
       "      <td>0</td>\n",
       "      <td>3</td>\n",
       "      <td>0</td>\n",
       "      <td>0</td>\n",
       "      <td>0</td>\n",
       "    </tr>\n",
       "  </tbody>\n",
       "</table>\n",
       "</div>"
      ],
      "text/plain": [
       "                   set  p4  p5  p6  p7  p8  p9  p10\n",
       "N10                                                \n",
       "AAAAAAAAAC    training   0   0   0   1   0   0    1\n",
       "AAAAAAAAAT  validation   0   0   0   1   0   0    0\n",
       "AAAAAAACAG    training   0   0   0   1   0   0    0\n",
       "AAAAAAACAT        test   0   0   0   2   0   0    0\n",
       "AAAAAAAGAC    training   0   0   0   3   0   0    0"
      ]
     },
     "execution_count": 4,
     "metadata": {},
     "output_type": "execute_result"
    }
   ],
   "source": [
    "# Set training and testing sequences\n",
    "N = len(df)\n",
    "r = np.random.rand(N)\n",
    "df.insert(loc=0, column='set', value='training')\n",
    "df.loc[(r >= .2) & (r < .4), 'set'] = 'validation'\n",
    "df.loc[(r < .2), 'set'] = 'test'\n",
    "df.head()"
   ]
  },
  {
   "cell_type": "code",
   "execution_count": 5,
   "metadata": {
    "collapsed": true
   },
   "outputs": [],
   "source": [
    "ix_test = (df['set'] == 'test')\n",
    "x_test = df[ix_test].index.values\n",
    "y_test = df[ix_test].iloc[:,1:].values"
   ]
  },
  {
   "cell_type": "code",
   "execution_count": 6,
   "metadata": {
    "collapsed": true
   },
   "outputs": [],
   "source": [
    "#x_test"
   ]
  },
  {
   "cell_type": "markdown",
   "metadata": {},
   "source": [
    "# Multi-latent MPA regression"
   ]
  },
  {
   "cell_type": "code",
   "execution_count": 32,
   "metadata": {
    "collapsed": true,
    "scrolled": false
   },
   "outputs": [],
   "source": [
    "# Set x and y\n",
    "ix = (df['set'] != 'test')\n",
    "x_train = df[ix].index.values\n",
    "y_train = df[ix].iloc[:,1:].values\n",
    "validation_flags = df['set'][ix] == 'validation'\n",
    "#L = len(x[0])\n",
    "L = len(df.index[0])\n",
    "Y = y_train.shape[1]\n",
    "\n",
    "I_variational_list = []\n",
    "val_I_variational_list = []\n",
    "\n",
    "\n",
    "# Iterate over models with increasing latent nodes\n",
    "#for number_latent_nodes in range(1,11,1):\n",
    "    \n",
    "# run each model multiple times to get average\n",
    "#for trial_per_latent_nodes in range(5):\n",
    "#print(number_latent_nodes)\n",
    "\n",
    "number_latent_nodes = 3\n",
    "\n",
    "# Create model\n",
    "model = mavenn.Model(L=L, \n",
    "                     Y=Y,\n",
    "                     alphabet='dna', \n",
    "                     regression_type='Multi_MPA',\n",
    "                     number_latent_nodes=number_latent_nodes,\n",
    "                     gpmap_type='additive',\n",
    "                    )\n"
   ]
  },
  {
   "cell_type": "code",
   "execution_count": 33,
   "metadata": {},
   "outputs": [
    {
     "name": "stdout",
     "output_type": "stream",
     "text": [
      "Model: \"model_10\"\n",
      "__________________________________________________________________________________________________\n",
      "Layer (type)                    Output Shape         Param #     Connected to                     \n",
      "==================================================================================================\n",
      "Sequence_labels_input (InputLay [(None, 47)]         0                                            \n",
      "__________________________________________________________________________________________________\n",
      "Sequence_only (Lambda)          (None, 40)           0           Sequence_labels_input[0][0]      \n",
      "__________________________________________________________________________________________________\n",
      "multi__additive_gp_map_layer_7  (None, 3)            123         Sequence_only[0][0]              \n",
      "__________________________________________________________________________________________________\n",
      "Labels_input (Lambda)           (None, 7)            0           Sequence_labels_input[0][0]      \n",
      "__________________________________________________________________________________________________\n",
      "phi_and_ct (Concatenate)        (None, 10)           0           multi__additive_gp_map_layer_7[0]\n",
      "                                                                 Labels_input[0][0]               \n",
      "__________________________________________________________________________________________________\n",
      "multi_mpa_measurement_process_l (None,)              1757        phi_and_ct[0][0]                 \n",
      "==================================================================================================\n",
      "Total params: 1,880\n",
      "Trainable params: 1,880\n",
      "Non-trainable params: 0\n",
      "__________________________________________________________________________________________________\n"
     ]
    }
   ],
   "source": [
    "model.get_nn().summary()"
   ]
  },
  {
   "cell_type": "code",
   "execution_count": 24,
   "metadata": {},
   "outputs": [
    {
     "name": "stdout",
     "output_type": "stream",
     "text": [
      "Epoch 1/2\n",
      "410/410 [==============================] - 10s 22ms/step - loss: 3723.0449 - I_var: 0.4845 - val_loss: 2006.3342 - val_I_var: 0.8270\n",
      "Epoch 2/2\n",
      "410/410 [==============================] - 9s 21ms/step - loss: 2006.5557 - I_var: 0.8385 - val_loss: 1964.5636 - val_I_var: 0.8451\n",
      "Training time: 42.1 seconds\n",
      "2 0.8463657107081157\n"
     ]
    }
   ],
   "source": [
    "\n",
    "# Set data (takes a bit of time)\n",
    "model.set_data(x=x_train,\n",
    "               y=y_train, \n",
    "               validation_flags=validation_flags,\n",
    "               verbose=False)\n",
    "\n",
    "# Fit model\n",
    "model.fit(learning_rate=.01,\n",
    "          epochs=2, \n",
    "          batch_size=1000,\n",
    "          linear_initialization=False,\n",
    "          early_stopping=True,\n",
    "          early_stopping_patience=10,\n",
    "          verbose=True)\n",
    "\n",
    "print(number_latent_nodes, model.I_variational(x_test,y_test)[0])\n",
    "I_variational_list.append([number_latent_nodes, model.I_variational(x_test,y_test)[0]])\n",
    "# Save model\n",
    "#model.save(f'models/tss_{gpmap_type}')"
   ]
  },
  {
   "cell_type": "code",
   "execution_count": 39,
   "metadata": {
    "collapsed": true
   },
   "outputs": [],
   "source": [
    "I_variational_pairwise=[[1, 0.7535117899726131],\n",
    "                        [2, 0.8525982534239986],\n",
    "                        [3, 0.8835548197577694],\n",
    "                        [4, 0.895468178922961],\n",
    "                        [5, 0.9021944438765743],\n",
    "                        [6, 0.9046283995459774],\n",
    "                        [7, 0.9064166580985287]]"
   ]
  },
  {
   "cell_type": "code",
   "execution_count": 44,
   "metadata": {},
   "outputs": [
    {
     "data": {
      "text/plain": [
       "<matplotlib.collections.PathCollection at 0x1576445c0>"
      ]
     },
     "execution_count": 44,
     "metadata": {},
     "output_type": "execute_result"
    },
    {
     "data": {
      "image/png": "[encoded data removed]",
      "text/plain": [
       "<Figure size 432x288 with 1 Axes>"
      ]
     },
     "metadata": {
      "needs_background": "light"
     },
     "output_type": "display_data"
    }
   ],
   "source": []
  },
  {
   "cell_type": "code",
   "execution_count": 34,
   "metadata": {
    "collapsed": true
   },
   "outputs": [],
   "source": [
    "I_variational_list = np.loadtxt('I_variational_tss.txt').tolist()"
   ]
  },
  {
   "cell_type": "code",
   "execution_count": 52,
   "metadata": {},
   "outputs": [
    {
     "data": {
      "image/png": "[encoded data removed]",
      "text/plain": [
       "<Figure size 360x288 with 1 Axes>"
      ]
     },
     "metadata": {
      "needs_background": "light"
     },
     "output_type": "display_data"
    }
   ],
   "source": [
    "#model.I_variational(x_train,y_train)\n",
    "plt.figure(figsize=(5,4))\n",
    "\n",
    "plt.scatter(np.array(I_variational_pairwise)[:,0],np.array(I_variational_pairwise)[:,1], label='pairwise gp-map')\n",
    "plt.scatter(np.array(I_variational_list)[:,0],np.array(I_variational_list)[:,1],label='additive gp-map')\n",
    "\n",
    "# for mean_I_var_index in np.arange(1,11,1): \n",
    "#     plt.scatter(mean_I_var_index,np.mean(np.array(I_variational_list)[np.where(np.array(I_variational_list)[:,0]==mean_I_var_index)][:,1]),s=15,color='black')\n",
    "\n",
    "#plt.scatter(mean_I_var_index,np.mean(np.array(I_variational_list)[np.where(np.array(I_variational_list)[:,0]==mean_I_var_index)][:,1]),s=15,color='black',label='mean - 5 trials (additive)')    \n",
    "plt.ylabel('${\\\\rm I_{var}}$ (bits), Test set',fontsize=12)\n",
    "plt.xlabel('Number latent nodes',fontsize=12)\n",
    "plt.tick_params(labelsize=12)\n",
    "plt.title('Multi-MPA regression, TSS dataset')\n",
    "plt.legend()\n",
    "plt.tight_layout()\n",
    "#plt.savefig('Ivar_vs_latent_nodes.png',dpi=300,bbox_inches='tight')\n",
    "plt.show()"
   ]
  },
  {
   "cell_type": "code",
   "execution_count": 12,
   "metadata": {},
   "outputs": [
    {
     "name": "stdout",
     "output_type": "stream",
     "text": [
      "1 (0.6061047520365459, 0.0022601121551577463)\n"
     ]
    }
   ],
   "source": [
    "\n",
    "\n",
    "\n",
    "# Create model\n",
    "model = mavenn.Model(L=L, \n",
    "                     Y=Y,\n",
    "                     alphabet='dna', \n",
    "                     regression_type='MPA', \n",
    "                     gpmap_type='additive')\n",
    "                     #gpmap_kwargs=gpmap_kwargs)\n",
    "\n",
    "# Set data (takes a bit of time)\n",
    "model.set_data(x=x_train,\n",
    "               y=y_train, \n",
    "               validation_flags=validation_flags,\n",
    "               verbose=False)\n",
    "\n",
    "# Fit model\n",
    "model.fit(epochs=1,\n",
    "          learning_rate=0.01,\n",
    "          batch_size=1000,\n",
    "          linear_initialization=False,\n",
    "          early_stopping=True,\n",
    "          early_stopping_patience=10,\n",
    "         verbose=False)\n",
    "\n",
    "print(1, model.I_variational(x_test,y_test))\n",
    "\n",
    "    \n",
    "# 1 (0.7111587336358192, 0.002174824311764514)\n",
    "# 1 (0.7082753589448096, 0.0022425711861246193)    "
   ]
  }
 ],
 "metadata": {
  "kernelspec": {
   "display_name": "Python 3",
   "language": "python",
   "name": "python3"
  },
  "language_info": {
   "codemirror_mode": {
    "name": "ipython",
    "version": 3
   },
   "file_extension": ".py",
   "mimetype": "text/x-python",
   "name": "python",
   "nbconvert_exporter": "python",
   "pygments_lexer": "ipython3",
   "version": "3.6.7"
  },
  "varInspector": {
   "cols": {
    "lenName": 16,
    "lenType": 16,
    "lenVar": 40
   },
   "kernels_config": {
    "python": {
     "delete_cmd_postfix": "",
     "delete_cmd_prefix": "del ",
     "library": "var_list.py",
     "varRefreshCmd": "print(var_dic_list())"
    },
    "r": {
     "delete_cmd_postfix": ") ",
     "delete_cmd_prefix": "rm(",
     "library": "var_list.r",
     "varRefreshCmd": "cat(var_dic_list()) "
    }
   },
   "types_to_exclude": [
    "module",
    "function",
    "builtin_function_or_method",
    "instance",
    "_Feature"
   ],
   "window_display": false
  }
 },
 "nbformat": 4,
 "nbformat_minor": 4
}
