{
 "cells": [
  {
   "cell_type": "code",
   "execution_count": 1,
   "metadata": {
    "ExecuteTime": {
     "end_time": "2020-11-13T17:18:53.593737Z",
     "start_time": "2020-11-13T17:18:48.009833Z"
    }
   },
   "outputs": [
    {
     "name": "stdout",
     "output_type": "stream",
     "text": [
      "['/Users/tareen/Desktop/Research_Projects/2020_mavenn_github/mavenn/mavenn']\n"
     ]
    }
   ],
   "source": [
    "# Standard imports\n",
    "import pandas as pd\n",
    "import matplotlib.pyplot as plt\n",
    "import numpy as np\n",
    "import re\n",
    "\n",
    "# Insert local path to MAVE-NN at beginning of Python's path\n",
    "import sys\n",
    "sys.path.insert(0, '/Users/tareen/Desktop/Research_Projects/2020_mavenn_github/mavenn')\n",
    "\n",
    "# Load mavenn\n",
    "import mavenn\n",
    "print(mavenn.__path__)"
   ]
  },
  {
   "cell_type": "code",
   "execution_count": 2,
   "metadata": {
    "collapsed": true
   },
   "outputs": [],
   "source": [
    "abreviation_dict = {\n",
    "    'Ala':'A', \n",
    "    'Arg':'R',\n",
    "    'Asn':'N',\n",
    "    'Asp':'D',\n",
    "    'Cys':'C',\n",
    "    'Glu':'E',\n",
    "    'Gln':'Q',\n",
    "    'Gly':'G',\n",
    "    'His':'H',\n",
    "    'Ile':'I',\n",
    "    'Leu':'L',\n",
    "    'Lys':'K',\n",
    "    'Met':'M',\n",
    "    'Phe':'F',\n",
    "    'Pro':'P',\n",
    "    'Ser':'S',\n",
    "    'Thr':'T',\n",
    "    'Trp':'W',\n",
    "    'Tyr':'Y',\n",
    "    'Val':'V'\n",
    "}\n",
    "\n",
    "aas = list(abreviation_dict.values())"
   ]
  },
  {
   "cell_type": "code",
   "execution_count": 3,
   "metadata": {},
   "outputs": [
    {
     "data": {
      "text/html": [
       "<div>\n",
       "<style scoped>\n",
       "    .dataframe tbody tr th:only-of-type {\n",
       "        vertical-align: middle;\n",
       "    }\n",
       "\n",
       "    .dataframe tbody tr th {\n",
       "        vertical-align: top;\n",
       "    }\n",
       "\n",
       "    .dataframe thead th {\n",
       "        text-align: right;\n",
       "    }\n",
       "</style>\n",
       "<table border=\"1\" class=\"dataframe\">\n",
       "  <thead>\n",
       "    <tr style=\"text-align: right;\">\n",
       "      <th></th>\n",
       "      <th>accession</th>\n",
       "      <th>hgvs_nt</th>\n",
       "      <th>hgvs_pro</th>\n",
       "      <th>score</th>\n",
       "      <th>sigma</th>\n",
       "    </tr>\n",
       "  </thead>\n",
       "  <tbody>\n",
       "    <tr>\n",
       "      <th>0</th>\n",
       "      <td>urn:mavedb:00000053-a-1#1</td>\n",
       "      <td>NaN</td>\n",
       "      <td>p.[Gly10Thr;Thr12Gln]</td>\n",
       "      <td>-0.470584</td>\n",
       "      <td>1.414214</td>\n",
       "    </tr>\n",
       "    <tr>\n",
       "      <th>1</th>\n",
       "      <td>urn:mavedb:00000053-a-1#2</td>\n",
       "      <td>NaN</td>\n",
       "      <td>p.[Thr12Phe;Gly13Ser]</td>\n",
       "      <td>-0.470584</td>\n",
       "      <td>1.414214</td>\n",
       "    </tr>\n",
       "    <tr>\n",
       "      <th>2</th>\n",
       "      <td>urn:mavedb:00000053-a-1#3</td>\n",
       "      <td>NaN</td>\n",
       "      <td>p.[Thr12Cys;Gly13Thr]</td>\n",
       "      <td>-0.470584</td>\n",
       "      <td>0.816497</td>\n",
       "    </tr>\n",
       "    <tr>\n",
       "      <th>3</th>\n",
       "      <td>urn:mavedb:00000053-a-1#4</td>\n",
       "      <td>NaN</td>\n",
       "      <td>p.[Gly10Ser;Thr12Gln]</td>\n",
       "      <td>0.040241</td>\n",
       "      <td>0.730297</td>\n",
       "    </tr>\n",
       "    <tr>\n",
       "      <th>4</th>\n",
       "      <td>urn:mavedb:00000053-a-1#5</td>\n",
       "      <td>NaN</td>\n",
       "      <td>p.[Ser11Gln;Thr12Gln]</td>\n",
       "      <td>-1.163732</td>\n",
       "      <td>1.224745</td>\n",
       "    </tr>\n",
       "  </tbody>\n",
       "</table>\n",
       "</div>"
      ],
      "text/plain": [
       "                   accession  hgvs_nt               hgvs_pro     score  \\\n",
       "0  urn:mavedb:00000053-a-1#1      NaN  p.[Gly10Thr;Thr12Gln] -0.470584   \n",
       "1  urn:mavedb:00000053-a-1#2      NaN  p.[Thr12Phe;Gly13Ser] -0.470584   \n",
       "2  urn:mavedb:00000053-a-1#3      NaN  p.[Thr12Cys;Gly13Thr] -0.470584   \n",
       "3  urn:mavedb:00000053-a-1#4      NaN  p.[Gly10Ser;Thr12Gln]  0.040241   \n",
       "4  urn:mavedb:00000053-a-1#5      NaN  p.[Ser11Gln;Thr12Gln] -1.163732   \n",
       "\n",
       "      sigma  \n",
       "0  1.414214  \n",
       "1  1.414214  \n",
       "2  0.816497  \n",
       "3  0.730297  \n",
       "4  1.224745  "
      ]
     },
     "execution_count": 3,
     "metadata": {},
     "output_type": "execute_result"
    }
   ],
   "source": [
    "df  = pd.read_csv('../downloaded_files/121.txt',skiprows=4)\n",
    "df.head()"
   ]
  },
  {
   "cell_type": "code",
   "execution_count": 4,
   "metadata": {},
   "outputs": [
    {
     "name": "stdout",
     "output_type": "stream",
     "text": [
      "len(y_df): 648022\n"
     ]
    },
    {
     "data": {
      "text/html": [
       "<div>\n",
       "<style scoped>\n",
       "    .dataframe tbody tr th:only-of-type {\n",
       "        vertical-align: middle;\n",
       "    }\n",
       "\n",
       "    .dataframe tbody tr th {\n",
       "        vertical-align: top;\n",
       "    }\n",
       "\n",
       "    .dataframe thead th {\n",
       "        text-align: right;\n",
       "    }\n",
       "</style>\n",
       "<table border=\"1\" class=\"dataframe\">\n",
       "  <thead>\n",
       "    <tr style=\"text-align: right;\">\n",
       "      <th></th>\n",
       "      <th>y</th>\n",
       "    </tr>\n",
       "  </thead>\n",
       "  <tbody>\n",
       "    <tr>\n",
       "      <th>0</th>\n",
       "      <td>-0.470584</td>\n",
       "    </tr>\n",
       "    <tr>\n",
       "      <th>1</th>\n",
       "      <td>-0.470584</td>\n",
       "    </tr>\n",
       "    <tr>\n",
       "      <th>2</th>\n",
       "      <td>-0.470584</td>\n",
       "    </tr>\n",
       "    <tr>\n",
       "      <th>3</th>\n",
       "      <td>0.040241</td>\n",
       "    </tr>\n",
       "    <tr>\n",
       "      <th>4</th>\n",
       "      <td>-1.163732</td>\n",
       "    </tr>\n",
       "  </tbody>\n",
       "</table>\n",
       "</div>"
      ],
      "text/plain": [
       "          y\n",
       "0 -0.470584\n",
       "1 -0.470584\n",
       "2 -0.470584\n",
       "3  0.040241\n",
       "4 -1.163732"
      ]
     },
     "execution_count": 4,
     "metadata": {},
     "output_type": "execute_result"
    }
   ],
   "source": [
    "# Create y_df\n",
    "y_df = pd.DataFrame()\n",
    "y_df['y'] = df['score'].astype(float).copy()\n",
    "print(f'len(y_df): {len(y_df)}')\n",
    "y_df.head()"
   ]
  },
  {
   "cell_type": "code",
   "execution_count": 5,
   "metadata": {
    "ExecuteTime": {
     "end_time": "2020-11-13T17:18:55.241596Z",
     "start_time": "2020-11-13T17:18:53.609787Z"
    }
   },
   "outputs": [
    {
     "data": {
      "text/html": [
       "<div>\n",
       "<style scoped>\n",
       "    .dataframe tbody tr th:only-of-type {\n",
       "        vertical-align: middle;\n",
       "    }\n",
       "\n",
       "    .dataframe tbody tr th {\n",
       "        vertical-align: top;\n",
       "    }\n",
       "\n",
       "    .dataframe thead th {\n",
       "        text-align: right;\n",
       "    }\n",
       "</style>\n",
       "<table border=\"1\" class=\"dataframe\">\n",
       "  <thead>\n",
       "    <tr style=\"text-align: right;\">\n",
       "      <th></th>\n",
       "      <th>set</th>\n",
       "      <th>hamming_dist</th>\n",
       "      <th>y</th>\n",
       "    </tr>\n",
       "  </thead>\n",
       "  <tbody>\n",
       "    <tr>\n",
       "      <th>0</th>\n",
       "      <td>training</td>\n",
       "      <td>2</td>\n",
       "      <td>-0.470584</td>\n",
       "    </tr>\n",
       "    <tr>\n",
       "      <th>1</th>\n",
       "      <td>training</td>\n",
       "      <td>2</td>\n",
       "      <td>-0.470584</td>\n",
       "    </tr>\n",
       "    <tr>\n",
       "      <th>2</th>\n",
       "      <td>training</td>\n",
       "      <td>2</td>\n",
       "      <td>-0.470584</td>\n",
       "    </tr>\n",
       "    <tr>\n",
       "      <th>3</th>\n",
       "      <td>training</td>\n",
       "      <td>2</td>\n",
       "      <td>0.040241</td>\n",
       "    </tr>\n",
       "    <tr>\n",
       "      <th>4</th>\n",
       "      <td>training</td>\n",
       "      <td>2</td>\n",
       "      <td>-1.163732</td>\n",
       "    </tr>\n",
       "  </tbody>\n",
       "</table>\n",
       "</div>"
      ],
      "text/plain": [
       "        set  hamming_dist         y\n",
       "0  training             2 -0.470584\n",
       "1  training             2 -0.470584\n",
       "2  training             2 -0.470584\n",
       "3  training             2  0.040241\n",
       "4  training             2 -1.163732"
      ]
     },
     "execution_count": 5,
     "metadata": {},
     "output_type": "execute_result"
    }
   ],
   "source": [
    "# Parse hgvs notation\n",
    "matches_list = [re.findall('([A-Za-z\\*]+)([0-9]+)([A-Za-z\\*]+)', s) for s in df['hgvs_pro']]\n",
    "\n",
    "# Add hamming_dist col to y_df\n",
    "y_df.insert(loc=0, column='hamming_dist', value=[len(m) for m in matches_list])\n",
    "\n",
    "# Assign to trianing and test sets\n",
    "N = len(y_df)\n",
    "training_frac=.8\n",
    "np.random.seed(0)\n",
    "r = np.random.rand(N)\n",
    "test_frac = .2\n",
    "val_frac = .2\n",
    "ix_train = (test_frac + val_frac <= r)\n",
    "ix_val = (test_frac <= r) & (r < test_frac + val_frac)\n",
    "ix_test = (r < test_frac)\n",
    "y_df.insert(loc=0, column='set', value='')\n",
    "y_df.loc[ix_train, 'set'] = 'training'\n",
    "y_df.loc[ix_val, 'set'] = 'validation'\n",
    "y_df.loc[ix_test, 'set'] = 'test'\n",
    "assert all([len(x)>0 for x in y_df['set']])\n",
    "\n",
    "y_df.head()"
   ]
  },
  {
   "cell_type": "code",
   "execution_count": 6,
   "metadata": {},
   "outputs": [
    {
     "name": "stdout",
     "output_type": "stream",
     "text": [
      "min l: 9\n",
      "max l: 74\n",
      "max id: 648021\n"
     ]
    },
    {
     "data": {
      "text/html": [
       "<div>\n",
       "<style scoped>\n",
       "    .dataframe tbody tr th:only-of-type {\n",
       "        vertical-align: middle;\n",
       "    }\n",
       "\n",
       "    .dataframe tbody tr th {\n",
       "        vertical-align: top;\n",
       "    }\n",
       "\n",
       "    .dataframe thead th {\n",
       "        text-align: right;\n",
       "    }\n",
       "</style>\n",
       "<table border=\"1\" class=\"dataframe\">\n",
       "  <thead>\n",
       "    <tr style=\"text-align: right;\">\n",
       "      <th></th>\n",
       "      <th>id</th>\n",
       "      <th>l</th>\n",
       "      <th>c</th>\n",
       "    </tr>\n",
       "  </thead>\n",
       "  <tbody>\n",
       "    <tr>\n",
       "      <th>0</th>\n",
       "      <td>0</td>\n",
       "      <td>9</td>\n",
       "      <td>T</td>\n",
       "    </tr>\n",
       "    <tr>\n",
       "      <th>1</th>\n",
       "      <td>0</td>\n",
       "      <td>11</td>\n",
       "      <td>Q</td>\n",
       "    </tr>\n",
       "    <tr>\n",
       "      <th>2</th>\n",
       "      <td>1</td>\n",
       "      <td>11</td>\n",
       "      <td>F</td>\n",
       "    </tr>\n",
       "    <tr>\n",
       "      <th>3</th>\n",
       "      <td>1</td>\n",
       "      <td>12</td>\n",
       "      <td>S</td>\n",
       "    </tr>\n",
       "    <tr>\n",
       "      <th>4</th>\n",
       "      <td>2</td>\n",
       "      <td>11</td>\n",
       "      <td>C</td>\n",
       "    </tr>\n",
       "  </tbody>\n",
       "</table>\n",
       "</div>"
      ],
      "text/plain": [
       "   id   l  c\n",
       "0   0   9  T\n",
       "1   0  11  Q\n",
       "2   1  11  F\n",
       "3   1  12  S\n",
       "4   2  11  C"
      ]
     },
     "execution_count": 6,
     "metadata": {},
     "output_type": "execute_result"
    }
   ],
   "source": [
    "### Create mut_df\n",
    "\n",
    "# Parse strings in 'hgvs_pro' column\n",
    "f = open('tmp.txt','w')\n",
    "f.write('id,l,c\\n')\n",
    "for i, matches in enumerate(matches_list):\n",
    "    for _, l, c in matches:\n",
    "        f.write(f'{i},{int(l)-1},{c}\\n')\n",
    "f.close()\n",
    "mut_df = pd.read_csv('tmp.txt')\n",
    "\n",
    "# Map long-form aa to short-form aa\n",
    "mut_df['c'] = mut_df['c'].map(abreviation_dict).astype(str)\n",
    "\n",
    "# Remove all unrecognized 'c'\n",
    "ix = mut_df['c'].isin(aas)\n",
    "mut_df = mut_df[ix]\n",
    "\n",
    "# preview mut_df\n",
    "print(f'min l: {min(mut_df[\"l\"])}')\n",
    "print(f'max l: {max(mut_df[\"l\"])}')\n",
    "print(f'max id: {max(mut_df[\"id\"])}')\n",
    "mut_df.head()"
   ]
  },
  {
   "cell_type": "code",
   "execution_count": 7,
   "metadata": {},
   "outputs": [],
   "source": [
    "\n",
    "dna_wt_seq = 'CCACGCCGCATCGTCATCCACCGTGGGTCAACGGGGTTAGGCTTCAATATCGTCGGTGGAGAGGATGGTGAGGGAATCTTCATCTCATTCATTCTGGCGGGAGGACCGGCCGATTTAAGCGGAGAACTTCGCAAAGGTGACCAGATCCTTTCGGTGAATGGCGTAGATTTGCGCAACGCATCACACGAACAGGCGGCCATCGCATTAAAGAACGCCGGCCAGACCGTTACGATTATCGCGCAGTATAAA'\n",
    "# obtained from EMBOSS Transeq from ebi.ac.uk/Tools\n",
    "wt_seq = 'PRRIVIHRGSTGLGFNIVGGEDGEGIFISFILAGGPADLSGELRKGDQILSVNGVDLRNASHEQAAIALKNAGQTVTIIAQYK'"
   ]
  },
  {
   "cell_type": "code",
   "execution_count": null,
   "metadata": {},
   "outputs": [
    {
     "data": {
      "text/html": [
       "<div>\n",
       "<style scoped>\n",
       "    .dataframe tbody tr th:only-of-type {\n",
       "        vertical-align: middle;\n",
       "    }\n",
       "\n",
       "    .dataframe tbody tr th {\n",
       "        vertical-align: top;\n",
       "    }\n",
       "\n",
       "    .dataframe thead th {\n",
       "        text-align: right;\n",
       "    }\n",
       "</style>\n",
       "<table border=\"1\" class=\"dataframe\">\n",
       "  <thead>\n",
       "    <tr style=\"text-align: right;\">\n",
       "      <th></th>\n",
       "      <th>set</th>\n",
       "      <th>hamming_dist</th>\n",
       "      <th>y</th>\n",
       "      <th>x</th>\n",
       "    </tr>\n",
       "  </thead>\n",
       "  <tbody>\n",
       "    <tr>\n",
       "      <th>0</th>\n",
       "      <td>training</td>\n",
       "      <td>2</td>\n",
       "      <td>-0.470584</td>\n",
       "      <td>PRRIVIHRGTTQLGFNIVGGEDGEGIFISFILAGGPADLSGELRKG...</td>\n",
       "    </tr>\n",
       "    <tr>\n",
       "      <th>1</th>\n",
       "      <td>training</td>\n",
       "      <td>2</td>\n",
       "      <td>-0.470584</td>\n",
       "      <td>PRRIVIHRGSTFSGFNIVGGEDGEGIFISFILAGGPADLSGELRKG...</td>\n",
       "    </tr>\n",
       "    <tr>\n",
       "      <th>2</th>\n",
       "      <td>training</td>\n",
       "      <td>2</td>\n",
       "      <td>-0.470584</td>\n",
       "      <td>PRRIVIHRGSTCTGFNIVGGEDGEGIFISFILAGGPADLSGELRKG...</td>\n",
       "    </tr>\n",
       "    <tr>\n",
       "      <th>3</th>\n",
       "      <td>training</td>\n",
       "      <td>2</td>\n",
       "      <td>0.040241</td>\n",
       "      <td>PRRIVIHRGSTQLGFNIVGGEDGEGIFISFILAGGPADLSGELRKG...</td>\n",
       "    </tr>\n",
       "    <tr>\n",
       "      <th>4</th>\n",
       "      <td>training</td>\n",
       "      <td>2</td>\n",
       "      <td>-1.163732</td>\n",
       "      <td>PRRIVIHRGSQQLGFNIVGGEDGEGIFISFILAGGPADLSGELRKG...</td>\n",
       "    </tr>\n",
       "    <tr>\n",
       "      <th>5</th>\n",
       "      <td>training</td>\n",
       "      <td>2</td>\n",
       "      <td>-0.470584</td>\n",
       "      <td>PRRIVIHRGSCELGFNIVGGEDGEGIFISFILAGGPADLSGELRKG...</td>\n",
       "    </tr>\n",
       "    <tr>\n",
       "      <th>6</th>\n",
       "      <td>training</td>\n",
       "      <td>2</td>\n",
       "      <td>-0.876050</td>\n",
       "      <td>PRRIVIHRGSEELGFNIVGGEDGEGIFISFILAGGPADLSGELRKG...</td>\n",
       "    </tr>\n",
       "    <tr>\n",
       "      <th>7</th>\n",
       "      <td>training</td>\n",
       "      <td>2</td>\n",
       "      <td>-0.470584</td>\n",
       "      <td>PRRIVIHRGTTELGFNIVGGEDGEGIFISFILAGGPADLSGELRKG...</td>\n",
       "    </tr>\n",
       "    <tr>\n",
       "      <th>8</th>\n",
       "      <td>training</td>\n",
       "      <td>2</td>\n",
       "      <td>-0.470584</td>\n",
       "      <td>PRRIVIHRGSQELGFNIVGGEDGEGIFISFILAGGPADLSGELRKG...</td>\n",
       "    </tr>\n",
       "    <tr>\n",
       "      <th>9</th>\n",
       "      <td>validation</td>\n",
       "      <td>2</td>\n",
       "      <td>-0.470584</td>\n",
       "      <td>PRRIVIHRGFTGLGFNIVGGEDGEGIFISFILAGGPADLSGELRKG...</td>\n",
       "    </tr>\n",
       "  </tbody>\n",
       "</table>\n",
       "</div>"
      ],
      "text/plain": [
       "          set  hamming_dist         y  \\\n",
       "0    training             2 -0.470584   \n",
       "1    training             2 -0.470584   \n",
       "2    training             2 -0.470584   \n",
       "3    training             2  0.040241   \n",
       "4    training             2 -1.163732   \n",
       "5    training             2 -0.470584   \n",
       "6    training             2 -0.876050   \n",
       "7    training             2 -0.470584   \n",
       "8    training             2 -0.470584   \n",
       "9  validation             2 -0.470584   \n",
       "\n",
       "                                                   x  \n",
       "0  PRRIVIHRGTTQLGFNIVGGEDGEGIFISFILAGGPADLSGELRKG...  \n",
       "1  PRRIVIHRGSTFSGFNIVGGEDGEGIFISFILAGGPADLSGELRKG...  \n",
       "2  PRRIVIHRGSTCTGFNIVGGEDGEGIFISFILAGGPADLSGELRKG...  \n",
       "3  PRRIVIHRGSTQLGFNIVGGEDGEGIFISFILAGGPADLSGELRKG...  \n",
       "4  PRRIVIHRGSQQLGFNIVGGEDGEGIFISFILAGGPADLSGELRKG...  \n",
       "5  PRRIVIHRGSCELGFNIVGGEDGEGIFISFILAGGPADLSGELRKG...  \n",
       "6  PRRIVIHRGSEELGFNIVGGEDGEGIFISFILAGGPADLSGELRKG...  \n",
       "7  PRRIVIHRGTTELGFNIVGGEDGEGIFISFILAGGPADLSGELRKG...  \n",
       "8  PRRIVIHRGSQELGFNIVGGEDGEGIFISFILAGGPADLSGELRKG...  \n",
       "9  PRRIVIHRGFTGLGFNIVGGEDGEGIFISFILAGGPADLSGELRKG...  "
      ]
     },
     "execution_count": 8,
     "metadata": {},
     "output_type": "execute_result"
    }
   ],
   "source": [
    "from mavenn.src.mavedb import mutations_to_dataset\n",
    "\n",
    "# Create dataset\n",
    "data_df = mutations_to_dataset(wt_seq=wt_seq, mut_df=mut_df, y_df=y_df)\n",
    "\n",
    "# Dropna and reindex\n",
    "data_df.dropna(inplace=True)\n",
    "data_df.reset_index(inplace=True, drop=True)\n",
    "\n",
    "data_df.head(10)"
   ]
  },
  {
   "cell_type": "code",
   "execution_count": null,
   "metadata": {},
   "outputs": [
    {
     "name": "stdout",
     "output_type": "stream",
     "text": [
      "test N: 129,793\n",
      "training + validation N: 518,229\n"
     ]
    },
    {
     "data": {
      "text/html": [
       "<div>\n",
       "<style scoped>\n",
       "    .dataframe tbody tr th:only-of-type {\n",
       "        vertical-align: middle;\n",
       "    }\n",
       "\n",
       "    .dataframe tbody tr th {\n",
       "        vertical-align: top;\n",
       "    }\n",
       "\n",
       "    .dataframe thead th {\n",
       "        text-align: right;\n",
       "    }\n",
       "</style>\n",
       "<table border=\"1\" class=\"dataframe\">\n",
       "  <thead>\n",
       "    <tr style=\"text-align: right;\">\n",
       "      <th></th>\n",
       "      <th>set</th>\n",
       "      <th>hamming_dist</th>\n",
       "      <th>y</th>\n",
       "      <th>x</th>\n",
       "    </tr>\n",
       "  </thead>\n",
       "  <tbody>\n",
       "    <tr>\n",
       "      <th>0</th>\n",
       "      <td>training</td>\n",
       "      <td>2</td>\n",
       "      <td>-0.470584</td>\n",
       "      <td>PRRIVIHRGTTQLGFNIVGGEDGEGIFISFILAGGPADLSGELRKG...</td>\n",
       "    </tr>\n",
       "    <tr>\n",
       "      <th>1</th>\n",
       "      <td>training</td>\n",
       "      <td>2</td>\n",
       "      <td>-0.470584</td>\n",
       "      <td>PRRIVIHRGSTFSGFNIVGGEDGEGIFISFILAGGPADLSGELRKG...</td>\n",
       "    </tr>\n",
       "    <tr>\n",
       "      <th>2</th>\n",
       "      <td>training</td>\n",
       "      <td>2</td>\n",
       "      <td>-0.470584</td>\n",
       "      <td>PRRIVIHRGSTCTGFNIVGGEDGEGIFISFILAGGPADLSGELRKG...</td>\n",
       "    </tr>\n",
       "    <tr>\n",
       "      <th>3</th>\n",
       "      <td>training</td>\n",
       "      <td>2</td>\n",
       "      <td>0.040241</td>\n",
       "      <td>PRRIVIHRGSTQLGFNIVGGEDGEGIFISFILAGGPADLSGELRKG...</td>\n",
       "    </tr>\n",
       "    <tr>\n",
       "      <th>4</th>\n",
       "      <td>training</td>\n",
       "      <td>2</td>\n",
       "      <td>-1.163732</td>\n",
       "      <td>PRRIVIHRGSQQLGFNIVGGEDGEGIFISFILAGGPADLSGELRKG...</td>\n",
       "    </tr>\n",
       "    <tr>\n",
       "      <th>5</th>\n",
       "      <td>training</td>\n",
       "      <td>2</td>\n",
       "      <td>-0.470584</td>\n",
       "      <td>PRRIVIHRGSCELGFNIVGGEDGEGIFISFILAGGPADLSGELRKG...</td>\n",
       "    </tr>\n",
       "    <tr>\n",
       "      <th>6</th>\n",
       "      <td>training</td>\n",
       "      <td>2</td>\n",
       "      <td>-0.876050</td>\n",
       "      <td>PRRIVIHRGSEELGFNIVGGEDGEGIFISFILAGGPADLSGELRKG...</td>\n",
       "    </tr>\n",
       "    <tr>\n",
       "      <th>7</th>\n",
       "      <td>training</td>\n",
       "      <td>2</td>\n",
       "      <td>-0.470584</td>\n",
       "      <td>PRRIVIHRGTTELGFNIVGGEDGEGIFISFILAGGPADLSGELRKG...</td>\n",
       "    </tr>\n",
       "    <tr>\n",
       "      <th>8</th>\n",
       "      <td>training</td>\n",
       "      <td>2</td>\n",
       "      <td>-0.470584</td>\n",
       "      <td>PRRIVIHRGSQELGFNIVGGEDGEGIFISFILAGGPADLSGELRKG...</td>\n",
       "    </tr>\n",
       "    <tr>\n",
       "      <th>9</th>\n",
       "      <td>validation</td>\n",
       "      <td>2</td>\n",
       "      <td>-0.470584</td>\n",
       "      <td>PRRIVIHRGFTGLGFNIVGGEDGEGIFISFILAGGPADLSGELRKG...</td>\n",
       "    </tr>\n",
       "  </tbody>\n",
       "</table>\n",
       "</div>"
      ],
      "text/plain": [
       "          set  hamming_dist         y  \\\n",
       "0    training             2 -0.470584   \n",
       "1    training             2 -0.470584   \n",
       "2    training             2 -0.470584   \n",
       "3    training             2  0.040241   \n",
       "4    training             2 -1.163732   \n",
       "5    training             2 -0.470584   \n",
       "6    training             2 -0.876050   \n",
       "7    training             2 -0.470584   \n",
       "8    training             2 -0.470584   \n",
       "9  validation             2 -0.470584   \n",
       "\n",
       "                                                   x  \n",
       "0  PRRIVIHRGTTQLGFNIVGGEDGEGIFISFILAGGPADLSGELRKG...  \n",
       "1  PRRIVIHRGSTFSGFNIVGGEDGEGIFISFILAGGPADLSGELRKG...  \n",
       "2  PRRIVIHRGSTCTGFNIVGGEDGEGIFISFILAGGPADLSGELRKG...  \n",
       "3  PRRIVIHRGSTQLGFNIVGGEDGEGIFISFILAGGPADLSGELRKG...  \n",
       "4  PRRIVIHRGSQQLGFNIVGGEDGEGIFISFILAGGPADLSGELRKG...  \n",
       "5  PRRIVIHRGSCELGFNIVGGEDGEGIFISFILAGGPADLSGELRKG...  \n",
       "6  PRRIVIHRGSEELGFNIVGGEDGEGIFISFILAGGPADLSGELRKG...  \n",
       "7  PRRIVIHRGTTELGFNIVGGEDGEGIFISFILAGGPADLSGELRKG...  \n",
       "8  PRRIVIHRGSQELGFNIVGGEDGEGIFISFILAGGPADLSGELRKG...  \n",
       "9  PRRIVIHRGFTGLGFNIVGGEDGEGIFISFILAGGPADLSGELRKG...  "
      ]
     },
     "execution_count": 9,
     "metadata": {},
     "output_type": "execute_result"
    }
   ],
   "source": [
    "# Separate test from data_df\n",
    "ix_test = data_df['set']=='test'\n",
    "test_df = data_df[ix_test].reset_index(drop=True)\n",
    "print(f'test N: {len(test_df):,}')\n",
    "\n",
    "# Remove test data from data_df\n",
    "data_df = data_df[~ix_test].reset_index(drop=True)\n",
    "print(f'training + validation N: {len(data_df):,}')\n",
    "data_df.head(10)"
   ]
  },
  {
   "cell_type": "code",
   "execution_count": null,
   "metadata": {
    "ExecuteTime": {
     "end_time": "2020-11-13T17:18:56.769693Z",
     "start_time": "2020-11-13T17:18:55.248052Z"
    },
    "collapsed": true
   },
   "outputs": [],
   "source": [
    "# Get sequence length\n",
    "L = len(data_df['x'][0])\n",
    "\n",
    "# Define model\n",
    "model = mavenn.Model(regression_type='GE',\n",
    "                     L=L,\n",
    "                     alphabet='protein',\n",
    "                     gpmap_type='pairwise',                     \n",
    "                     ge_noise_model_type='SkewedT',\n",
    "                     ge_nonlinearity_hidden_nodes=100,\n",
    "                     ge_heteroskedasticity_order=0)"
   ]
  },
  {
   "cell_type": "code",
   "execution_count": null,
   "metadata": {
    "ExecuteTime": {
     "end_time": "2020-11-13T17:19:10.236222Z",
     "start_time": "2020-11-13T17:18:56.800857Z"
    }
   },
   "outputs": [
    {
     "name": "stdout",
     "output_type": "stream",
     "text": [
      "N = 518,229 observations set as training data.\n",
      "Using 24.9% for validation.\n",
      "Data shuffled.\n",
      "Time to set data: 75.4 sec.\n"
     ]
    }
   ],
   "source": [
    "# Set training data\n",
    "model.set_data(x=data_df['x'],\n",
    "               y=data_df['y'],\n",
    "               validation_flags=(data_df['set']=='validation'),\n",
    "               shuffle=True)"
   ]
  },
  {
   "cell_type": "code",
   "execution_count": null,
   "metadata": {
    "ExecuteTime": {
     "end_time": "2020-11-13T17:24:29.660897Z",
     "start_time": "2020-11-13T17:19:10.244039Z"
    }
   },
   "outputs": [
    {
     "name": "stdout",
     "output_type": "stream",
     "text": [
      "Epoch 1/1000\n",
      "  16/1946 [..............................] - ETA: 3:23:53 - loss: 329.0460 - I_var: -0.6839"
     ]
    }
   ],
   "source": [
    "# Fit model to data\n",
    "history = model.fit(learning_rate=.0002,\n",
    "                    epochs=1000,\n",
    "                    batch_size=200,\n",
    "                    early_stopping=True,\n",
    "                    early_stopping_patience=25,\n",
    "                    linear_initialization=False)"
   ]
  },
  {
   "cell_type": "code",
   "execution_count": null,
   "metadata": {
    "ExecuteTime": {
     "end_time": "2020-11-13T17:24:29.738162Z",
     "start_time": "2020-11-13T17:24:29.663486Z"
    },
    "collapsed": true
   },
   "outputs": [],
   "source": [
    "# Save model\n",
    "#model.save('models/gfp_ge_additive_homogaussian')"
   ]
  },
  {
   "cell_type": "code",
   "execution_count": null,
   "metadata": {
    "ExecuteTime": {
     "end_time": "2020-11-13T17:24:29.949932Z",
     "start_time": "2020-11-13T17:24:29.745159Z"
    }
   },
   "outputs": [],
   "source": [
    "# Load model\n",
    "#model = mavenn.load('models/gfp_ge_additive_homogaussian')"
   ]
  },
  {
   "cell_type": "code",
   "execution_count": null,
   "metadata": {
    "ExecuteTime": {
     "end_time": "2020-11-13T17:24:29.968985Z",
     "start_time": "2020-11-13T17:24:29.954699Z"
    },
    "collapsed": true
   },
   "outputs": [],
   "source": [
    "# Subsample indices for easy plotting and information estimation\n",
    "N_test = len(test_df)\n",
    "ix = np.random.rand(N_test) < .5\n",
    "\n",
    "# Get x and y\n",
    "x_test = test_df['x'].values[ix]\n",
    "y_test = test_df['y'].values[ix]"
   ]
  },
  {
   "cell_type": "code",
   "execution_count": null,
   "metadata": {
    "ExecuteTime": {
     "end_time": "2020-11-13T17:24:32.184656Z",
     "start_time": "2020-11-13T17:24:29.975779Z"
    }
   },
   "outputs": [],
   "source": [
    "# Show training history\n",
    "print('On test data:')\n",
    "\n",
    "# Compute likelihood information\n",
    "I_var, dI_var =  model.I_variational(x=x_test, y=y_test)\n",
    "print(f'I_var_test: {I_var:.3f} +- {dI_var:.3f} bits') \n",
    "\n",
    "# Compute predictive information\n",
    "I_pred, dI_pred = model.I_predictive(x=x_test, y=y_test)\n",
    "print(f'I_pred_test: {I_pred:.3f} +- {dI_pred:.3f} bits')\n",
    "\n",
    "I_var_hist = model.history['I_var']\n",
    "val_I_var_hist = model.history['val_I_var']\n",
    "\n",
    "fig, ax = plt.subplots(1,1,figsize=[4,4])\n",
    "ax.plot(I_var_hist, label='I_var_train')\n",
    "ax.plot(val_I_var_hist, label='I_var_val')\n",
    "ax.axhline(I_var, color='C2', linestyle=':', label='I_var_test')\n",
    "ax.axhline(I_pred, color='C3', linestyle=':', label='I_pred_test')\n",
    "ax.legend()\n",
    "ax.set_xlabel('epochs')\n",
    "ax.set_ylabel('bits')\n",
    "ax.set_title('training hisotry')\n",
    "#ax.set_ylim([0, I_pred*1.2]);"
   ]
  },
  {
   "cell_type": "code",
   "execution_count": null,
   "metadata": {
    "ExecuteTime": {
     "end_time": "2020-11-13T17:24:33.154877Z",
     "start_time": "2020-11-13T17:24:32.186708Z"
    }
   },
   "outputs": [],
   "source": [
    "# Compute phi and yhat values\n",
    "phi = model.x_to_phi(x_test)\n",
    "yhat = model.phi_to_yhat(phi)\n",
    "\n",
    "# Create grid for plotting yhat and yqs\n",
    "phi_lim = [-5, 2.5]\n",
    "phi_grid = np.linspace(phi_lim[0], phi_lim[1], 1000)\n",
    "yhat_grid = model.phi_to_yhat(phi_grid)\n",
    "yqs_grid = model.yhat_to_yq(yhat_grid, q=[.16,.84])\n",
    "\n",
    "# Create two panels\n",
    "fig, ax = plt.subplots(1, 2, figsize=[8, 4])\n",
    "\n",
    "# Illustrate measurement process with GE curve\n",
    "ax[0].scatter(phi, y_test, color='C0', s=5, alpha=.1, label='test data')\n",
    "ax[0].plot(phi_grid, yhat_grid, linewidth=2, color='C1',\n",
    "        label='$\\hat{y} = g(\\phi)$')\n",
    "ax[0].plot(phi_grid, yqs_grid[:, 0], linestyle='--', color='C1',\n",
    "        label='68% CI')\n",
    "ax[0].plot(phi_grid, yqs_grid[:, 1], linestyle='--', color='C1')\n",
    "ax[0].set_xlim(phi_lim)\n",
    "ax[0].set_xlabel('latent phenotype ($\\phi$)')\n",
    "ax[0].set_ylabel('measurement ($y$)')\n",
    "ax[0].set_title('measurement process')\n",
    "ax[0].legend()\n",
    "\n",
    "R_square_on_test = np.corrcoef(yhat,y_test)[0][1]**2\n",
    "ax[1].plot((min(yhat), max(yhat)), (min(y_test), max(y_test)), '--',color='black')\n",
    "ax[1].scatter(yhat, y_test, color='C0', s=5, alpha=.1, label='test data',zorder=10)\n",
    "ax[1].set_xlabel('predictions ($\\hat{y}$)')\n",
    "ax[1].set_ylabel('measurement ($y$)')\n",
    "ax[1].set_title(\"$R^2 = $\"+str(R_square_on_test)[0:5])\n",
    "\n",
    "\n",
    "# Fix up plot\n",
    "fig.tight_layout()\n",
    "#plt.savefig('gfp_ge_additive_measurement_process_yhat.png',bbox_inches='tight',dpi=300)\n",
    "plt.show()"
   ]
  },
  {
   "cell_type": "code",
   "execution_count": null,
   "metadata": {
    "collapsed": true
   },
   "outputs": [],
   "source": []
  },
  {
   "cell_type": "code",
   "execution_count": null,
   "metadata": {
    "ExecuteTime": {
     "end_time": "2020-11-13T17:24:33.543403Z",
     "start_time": "2020-11-13T17:24:33.157043Z"
    }
   },
   "outputs": [],
   "source": [
    "# Set wild-type sequence\n",
    "gfp_consensus_seq = model.x_stats['consensus_seq']\n",
    "\n",
    "# Get effects of all single-point mutations on phi\n",
    "theta_dict = model.get_theta(gauge='user',\n",
    "                             x_wt=gfp_consensus_seq)\n",
    "\n",
    "# Create two panels\n",
    "fig, ax = plt.subplots(1, 1, figsize=[12, 4])\n",
    "\n",
    "# Left panel: draw heatmap illustrating 1pt mutation effects\n",
    "ax, cb = mavenn.heatmap(theta_dict['theta_lc'],\n",
    "                        alphabet=theta_dict['alphabet'],\n",
    "                        seq=gfp_consensus_seq,\n",
    "                        #cmap='PiYG',\n",
    "                        ccenter=0,\n",
    "                        ax=ax)\n",
    "ax.set_xlabel('position ($l$)')\n",
    "ax.set_ylabel('amino acid ($c$)')\n",
    "cb.set_label('effect ($\\Delta\\phi$)', rotation=-90, va=\"bottom\")\n",
    "ax.set_title('mutation effects')\n",
    "\n",
    "\n",
    "\n",
    "# Fix up plot\n",
    "fig.tight_layout()\n",
    "#plt.savefig('gfp_additive_heatmap.png',bbox_inches='tight',dpi=300)\n",
    "plt.show()\n"
   ]
  },
  {
   "cell_type": "code",
   "execution_count": null,
   "metadata": {
    "collapsed": true
   },
   "outputs": [],
   "source": []
  },
  {
   "cell_type": "code",
   "execution_count": null,
   "metadata": {
    "collapsed": true
   },
   "outputs": [],
   "source": []
  },
  {
   "cell_type": "code",
   "execution_count": null,
   "metadata": {
    "collapsed": true
   },
   "outputs": [],
   "source": []
  }
 ],
 "metadata": {
  "kernelspec": {
   "display_name": "Python 3",
   "language": "python",
   "name": "python3"
  },
  "language_info": {
   "codemirror_mode": {
    "name": "ipython",
    "version": 3
   },
   "file_extension": ".py",
   "mimetype": "text/x-python",
   "name": "python",
   "nbconvert_exporter": "python",
   "pygments_lexer": "ipython3",
   "version": "3.6.7"
  },
  "toc": {
   "base_numbering": 1,
   "nav_menu": {},
   "number_sections": true,
   "sideBar": true,
   "skip_h1_title": false,
   "title_cell": "Table of Contents",
   "title_sidebar": "Contents",
   "toc_cell": false,
   "toc_position": {},
   "toc_section_display": true,
   "toc_window_display": false
  },
  "varInspector": {
   "cols": {
    "lenName": 16,
    "lenType": 16,
    "lenVar": 40
   },
   "kernels_config": {
    "python": {
     "delete_cmd_postfix": "",
     "delete_cmd_prefix": "del ",
     "library": "var_list.py",
     "varRefreshCmd": "print(var_dic_list())"
    },
    "r": {
     "delete_cmd_postfix": ") ",
     "delete_cmd_prefix": "rm(",
     "library": "var_list.r",
     "varRefreshCmd": "cat(var_dic_list()) "
    }
   },
   "types_to_exclude": [
    "module",
    "function",
    "builtin_function_or_method",
    "instance",
    "_Feature"
   ],
   "window_display": false
  }
 },
 "nbformat": 4,
 "nbformat_minor": 2
}
