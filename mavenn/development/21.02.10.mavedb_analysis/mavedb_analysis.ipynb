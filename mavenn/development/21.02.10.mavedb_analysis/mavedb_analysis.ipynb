{
 "cells": [
  {
   "cell_type": "code",
   "execution_count": 290,
   "metadata": {
    "collapsed": true
   },
   "outputs": [],
   "source": [
    "import requests\n",
    "import pandas as pd\n",
    "import numpy as np\n",
    "import glob"
   ]
  },
  {
   "cell_type": "code",
   "execution_count": 15,
   "metadata": {},
   "outputs": [],
   "source": [
    "# The following list of keywords can be used to make API calls (e.g. http get()) to mavedb\n",
    "allowed_API_keywords = [\"users\",\n",
    "                        \"experimentsets\",\n",
    "                        \"experiments\",\n",
    "                        \"scoresets\",\n",
    "                        \"keyword\",\n",
    "                        \"pubmed\",\n",
    "                        \"doi\",\n",
    "                        \"sra\",\n",
    "                        \"refseq\",\n",
    "                        \"uniprot\",\n",
    "                        \"ensembl\",\n",
    "                        \"genome\",\n",
    "                        \"target\",\n",
    "                        \"reference\"\n",
    "                       ]\n",
    "\n",
    "\n",
    "experiment_set_string = f'https://www.mavedb.org/api/experimentsets/'\n",
    "experiment_set_call = requests.get(experiment_set_string)\n",
    "\n",
    "scoreset_set_string = f'https://www.mavedb.org/api/scoresets/'\n",
    "score_set_call = requests.get(scoreset_set_string)"
   ]
  },
  {
   "cell_type": "code",
   "execution_count": 54,
   "metadata": {},
   "outputs": [
    {
     "data": {
      "text/plain": [
       "['urn:mavedb:00000001-a',\n",
       " 'urn:mavedb:00000001-b',\n",
       " 'urn:mavedb:00000001-c',\n",
       " 'urn:mavedb:00000001-d']"
      ]
     },
     "execution_count": 54,
     "metadata": {},
     "output_type": "execute_result"
    }
   ],
   "source": [
    "# for _ in range(10):\n",
    "#     print(x.json()[_]['experiments'])\n",
    "\n",
    "#experimentset_urn,score_set_call.json()[_]['urn'],score_set_call.json()[_]['urn'][:-4]\n",
    "experiment_set_call.json()[9]['experiments']"
   ]
  },
  {
   "cell_type": "code",
   "execution_count": 68,
   "metadata": {},
   "outputs": [
    {
     "data": {
      "text/plain": [
       "'urn:mavedb:00000038-b'"
      ]
     },
     "execution_count": 68,
     "metadata": {},
     "output_type": "execute_result"
    }
   ],
   "source": []
  },
  {
   "cell_type": "markdown",
   "metadata": {},
   "source": [
    "Note I have appended a \"-1\" to the url. "
   ]
  },
  {
   "cell_type": "code",
   "execution_count": 90,
   "metadata": {},
   "outputs": [],
   "source": [
    "download_urls = []\n",
    "for scoreset_index in range(len(score_set_call.json())):\n",
    "    \n",
    "    experiment_name = score_set_call.json()[scoreset_index]['experiment']\n",
    "    score_download_url = f'https://www.mavedb.org/scoreset/{experiment_name}-1/scores/'\n",
    "    download_urls.append(score_download_url)        \n",
    "    #print(f'{score_download_url}')"
   ]
  },
  {
   "cell_type": "markdown",
   "metadata": {},
   "source": [
    "21.02.10\n",
    "\n",
    "    - Experimentsets = 60\n",
    "    - Experiments = 96\n",
    "    - Scoresets = 148\n",
    "\n",
    "The number of scoresets I can obtain from the API get are 148, the number of experimentsets are 60, and the number of experiments are 96, for a total of **304** datasets types."
   ]
  },
  {
   "cell_type": "code",
   "execution_count": 149,
   "metadata": {},
   "outputs": [],
   "source": [
    "def download_file(url, filename='mavedb_file.txt'):\n",
    "    \"\"\"\n",
    "    Method that's used to download files.\n",
    "    \n",
    "    url: (str)\n",
    "        String of the http address from which \n",
    "        to download file.\n",
    "    filename: (str)\n",
    "        Filename given to downloaded file.\n",
    "    \"\"\"\n",
    "    try:\n",
    "        with requests.get(url) as req:\n",
    "            with open(filename, 'wb') as f:\n",
    "                for chunk in req.iter_content(chunk_size=8192):\n",
    "                    # if chunk is not empty, write chunk to file.\n",
    "                    if chunk:\n",
    "                        f.write(chunk)\n",
    "                return filename\n",
    "    except Exception as e:\n",
    "        print(e)\n",
    "        return None"
   ]
  },
  {
   "cell_type": "markdown",
   "metadata": {},
   "source": [
    "### Download all score files"
   ]
  },
  {
   "cell_type": "code",
   "execution_count": 194,
   "metadata": {
    "scrolled": true
   },
   "outputs": [
    {
     "name": "stdout",
     "output_type": "stream",
     "text": [
      " Downloading index = 0 ... \n",
      " Downloading index = 1 ... \n",
      " Downloading index = 2 ... \n",
      " Downloading index = 3 ... \n",
      " Downloading index = 4 ... \n",
      " Downloading index = 5 ... \n",
      " Downloading index = 6 ... \n",
      " Downloading index = 7 ... \n",
      " Downloading index = 8 ... \n",
      " Downloading index = 9 ... \n",
      " Downloading index = 10 ... \n",
      " Downloading index = 11 ... \n",
      " Downloading index = 12 ... \n",
      " Downloading index = 13 ... \n",
      " Downloading index = 14 ... \n",
      " Downloading index = 15 ... \n",
      " Downloading index = 16 ... \n",
      " Downloading index = 17 ... \n",
      " Downloading index = 18 ... \n",
      " Downloading index = 19 ... \n",
      " Downloading index = 20 ... \n",
      " Downloading index = 21 ... \n",
      " Downloading index = 22 ... \n",
      " Downloading index = 23 ... \n",
      " Downloading index = 24 ... \n",
      " Downloading index = 25 ... \n",
      " Downloading index = 26 ... \n",
      " Downloading index = 27 ... \n",
      " Downloading index = 28 ... \n",
      " Downloading index = 29 ... \n",
      " Downloading index = 30 ... \n",
      " Downloading index = 31 ... \n",
      " Downloading index = 32 ... \n",
      " Downloading index = 33 ... \n",
      " Downloading index = 34 ... \n",
      " Downloading index = 35 ... \n",
      " Downloading index = 36 ... \n",
      " Downloading index = 37 ... \n",
      " Downloading index = 38 ... \n",
      " Downloading index = 39 ... \n",
      " Downloading index = 40 ... \n",
      " Downloading index = 41 ... \n",
      " Downloading index = 42 ... \n",
      " Downloading index = 43 ... \n",
      " Downloading index = 44 ... \n",
      " Downloading index = 45 ... \n",
      " Downloading index = 46 ... \n",
      " Downloading index = 47 ... \n",
      " Downloading index = 48 ... \n",
      " Downloading index = 49 ... \n",
      " Downloading index = 50 ... \n",
      " Downloading index = 51 ... \n",
      " Downloading index = 52 ... \n",
      " Downloading index = 53 ... \n",
      " Downloading index = 54 ... \n",
      " Downloading index = 55 ... \n",
      " Downloading index = 56 ... \n",
      " Downloading index = 57 ... \n",
      " Downloading index = 58 ... \n",
      " Downloading index = 59 ... \n",
      " Downloading index = 60 ... \n",
      " Downloading index = 61 ... \n",
      " Downloading index = 62 ... \n",
      " Downloading index = 63 ... \n",
      " Downloading index = 64 ... \n",
      " Downloading index = 65 ... \n",
      " Downloading index = 66 ... \n",
      " Downloading index = 67 ... \n",
      " Downloading index = 68 ... \n",
      " Downloading index = 69 ... \n",
      " Downloading index = 70 ... \n",
      " Downloading index = 71 ... \n",
      " Downloading index = 72 ... \n",
      " Downloading index = 73 ... \n",
      " Downloading index = 74 ... \n",
      " Downloading index = 75 ... \n",
      " Downloading index = 76 ... \n",
      " Downloading index = 77 ... \n",
      " Downloading index = 78 ... \n",
      " Downloading index = 79 ... \n",
      " Downloading index = 80 ... \n",
      " Downloading index = 81 ... \n",
      " Downloading index = 82 ... \n",
      " Downloading index = 83 ... \n",
      " Downloading index = 84 ... \n",
      " Downloading index = 85 ... \n",
      " Downloading index = 86 ... \n",
      " Downloading index = 87 ... \n",
      " Downloading index = 88 ... \n",
      " Downloading index = 89 ... \n",
      " Downloading index = 90 ... \n",
      " Downloading index = 91 ... \n",
      " Downloading index = 92 ... \n",
      " Downloading index = 93 ... \n",
      " Downloading index = 94 ... \n",
      " Downloading index = 95 ... \n",
      " Downloading index = 96 ... \n",
      " Downloading index = 97 ... \n",
      " Downloading index = 98 ... \n",
      " Downloading index = 99 ... \n",
      " Downloading index = 100 ... \n",
      " Downloading index = 101 ... \n",
      " Downloading index = 102 ... \n",
      " Downloading index = 103 ... \n",
      " Downloading index = 104 ... \n",
      " Downloading index = 105 ... \n",
      " Downloading index = 106 ... \n",
      " Downloading index = 107 ... \n",
      " Downloading index = 108 ... \n",
      " Downloading index = 109 ... \n",
      " Downloading index = 110 ... \n",
      " Downloading index = 111 ... \n",
      " Downloading index = 112 ... \n",
      " Downloading index = 113 ... \n",
      " Downloading index = 114 ... \n",
      " Downloading index = 115 ... \n",
      " Downloading index = 116 ... \n",
      " Downloading index = 117 ... \n",
      " Downloading index = 118 ... \n",
      " Downloading index = 119 ... \n",
      " Downloading index = 120 ... \n",
      " Downloading index = 121 ... \n",
      " Downloading index = 122 ... \n",
      " Downloading index = 123 ... \n",
      " Downloading index = 124 ... \n",
      " Downloading index = 125 ... \n",
      " Downloading index = 126 ... \n",
      " Downloading index = 127 ... \n",
      " Downloading index = 128 ... \n",
      " Downloading index = 129 ... \n",
      " Downloading index = 130 ... \n",
      " Downloading index = 131 ... \n",
      " Downloading index = 132 ... \n",
      " Downloading index = 133 ... \n",
      " Downloading index = 134 ... \n",
      " Downloading index = 135 ... \n",
      " Downloading index = 136 ... \n",
      " Downloading index = 137 ... \n",
      " Downloading index = 138 ... \n",
      " Downloading index = 139 ... \n",
      " Downloading index = 140 ... \n",
      " Downloading index = 141 ... \n",
      " Downloading index = 142 ... \n",
      " Downloading index = 143 ... \n",
      " Downloading index = 144 ... \n",
      " Downloading index = 145 ... \n",
      " Downloading index = 146 ... \n",
      " Downloading index = 147 ... \n"
     ]
    }
   ],
   "source": [
    "# for download_index in range(len(download_urls)):\n",
    "        \n",
    "#     print(f' Downloading index = {download_index} ... ')\n",
    "\n",
    "#     download_url = download_urls[download_index]\n",
    "#     download_file(download_url, filename=f'downloaded_files/{download_index}.txt')\n",
    "\n"
   ]
  },
  {
   "cell_type": "markdown",
   "metadata": {},
   "source": [
    "### Analyze downloaded data"
   ]
  },
  {
   "cell_type": "code",
   "execution_count": 247,
   "metadata": {},
   "outputs": [
    {
     "name": "stdout",
     "output_type": "stream",
     "text": [
      "0, 10, Multi-mutant counter = 1\n",
      "5, 0, Pro-Multi-mutant counter = 2\n",
      "10, 1, Multi-mutant counter = 3\n",
      "16, 0, Pro-Multi-mutant counter = 4\n",
      "21, 0, Pro-Multi-mutant counter = 5\n"
     ]
    },
    {
     "name": "stderr",
     "output_type": "stream",
     "text": [
      "/Users/tareen/miniconda3/lib/python3.6/site-packages/IPython/core/interactiveshell.py:3020: DtypeWarning: Columns (2) have mixed types.Specify dtype option on import or set low_memory=False.\n",
      "  interactivity=interactivity, compiler=compiler, result=result)\n"
     ]
    },
    {
     "name": "stdout",
     "output_type": "stream",
     "text": [
      "25, 0, Multi-mutant counter = 6\n",
      "27, 0, Pro-Multi-mutant counter = 7\n",
      "35, 33, Pro-Multi-mutant counter = 8\n",
      "37, 0, Multi-mutant counter = 9\n",
      "43, 0, Multi-mutant counter = 10\n",
      "44, 0, Multi-mutant counter = 11\n",
      "46, 15, Pro-Multi-mutant counter = 12\n",
      "47, 16, Multi-mutant counter = 13\n",
      "48, 0, Multi-mutant counter = 14\n",
      "49, 116, Pro-Multi-mutant counter = 15\n",
      "51, 0, Multi-mutant counter = 16\n",
      "56, 1, Pro-Multi-mutant counter = 17\n",
      "58, 0, Multi-mutant counter = 18\n",
      "61, 0, Multi-mutant counter = 19\n",
      "67, 0, Multi-mutant counter = 20\n",
      "68, 473, Pro-Multi-mutant counter = 21\n",
      "72, 10, Multi-mutant counter = 22\n",
      "81, 0, Pro-Multi-mutant counter = 23\n",
      "91, 0, Pro-Multi-mutant counter = 24\n",
      "96, 0, Pro-Multi-mutant counter = 25\n",
      "117, 33, Pro-Multi-mutant counter = 26\n",
      "120, 0, Pro-Multi-mutant counter = 27\n",
      "121, 0, Pro-Multi-mutant counter = 28\n",
      "123, 15, Pro-Multi-mutant counter = 29\n"
     ]
    }
   ],
   "source": [
    "\n",
    "# multi_mutant_counter=0\n",
    "\n",
    "# # append indices of files which contain\n",
    "# # multiple mutants to this list so I can\n",
    "# # verify by hand. \n",
    "# validation_indices = []\n",
    "# for file_index in range(len(download_urls)):\n",
    "\n",
    "#     # read downloaded file\n",
    "#     try:\n",
    "#         score_df = pd.read_csv(f'downloaded_files/{file_index}.txt',skiprows=4)\n",
    "#     except Exception as e:\n",
    "        \n",
    "#         try:\n",
    "#             score_df = pd.read_csv(f'downloaded_files/{file_index}.txt',skiprows=14)\n",
    "#         except:    \n",
    "#             score_df = pd.read_csv(f'downloaded_files/{file_index}.txt',skiprows=17)\n",
    "        \n",
    "#     # If hgvs_nt column not None, Count the number of \n",
    "#     # matches of the right bracket in the hgvs_nt column. \n",
    "#     # If more more than 1, that means multi_mutant data. \n",
    "    \n",
    "#     # check if not empty and check if entry is string\n",
    "#     if score_df['hgvs_nt'][0] and type(score_df['hgvs_nt'][0])==str:        \n",
    "        \n",
    "#         # loop over column values until multi-mutant found\n",
    "#         for values_index in range(len(score_df['hgvs_nt'].values)):\n",
    "#             if score_df['hgvs_nt'][values_index].count('>') > 1:\n",
    "#                 multi_mutant_counter+=1\n",
    "#                 validation_indices.append([file_index,values_index])\n",
    "#                 print(f'{file_index}, {values_index}, Multi-mutant counter = {multi_mutant_counter}')\n",
    "#                 # if found multi-mutant, break out of inner loop\n",
    "#                 break\n",
    "            \n",
    "#     # if ; count more than 0 in hgvs_pro column, then \n",
    "#     # increment multi-mutant counter.\n",
    "#     else:\n",
    "        \n",
    "#         # loop over column values until multi-mutant found\n",
    "#         for values_index in range(len(score_df['hgvs_pro'].values)):\n",
    "#             if score_df['hgvs_pro'][values_index].count(';') > 0:\n",
    "#                 multi_mutant_counter+=1                \n",
    "#                 validation_indices.append([file_index,values_index])               \n",
    "#                 print(f'{file_index}, {values_index}, Pro-Multi-mutant counter = {multi_mutant_counter}')\n",
    "#                 # if found multi-mutant, break out of inner loop                \n",
    "#                 break"
   ]
  },
  {
   "cell_type": "code",
   "execution_count": 346,
   "metadata": {},
   "outputs": [
    {
     "name": "stdout",
     "output_type": "stream",
     "text": [
      "0, 10, Multi-mutant counter = 1, filename = downloaded_files/0.txt\n",
      "1, 1, Multi-mutant counter = 2, filename = downloaded_files/10.txt\n",
      "17, 33, Pro-Multi-mutant counter = 3, filename = downloaded_files/117.txt\n",
      "20, 0, Pro-Multi-mutant counter = 4, filename = downloaded_files/121.txt\n"
     ]
    },
    {
     "name": "stderr",
     "output_type": "stream",
     "text": [
      "/Users/tareen/miniconda3/lib/python3.6/site-packages/IPython/core/interactiveshell.py:3020: DtypeWarning: Columns (2) have mixed types.Specify dtype option on import or set low_memory=False.\n",
      "  interactivity=interactivity, compiler=compiler, result=result)\n"
     ]
    },
    {
     "name": "stdout",
     "output_type": "stream",
     "text": [
      "43, 0, Multi-mutant counter = 5, filename = downloaded_files/25.txt\n",
      "44, 0, Pro-Multi-mutant counter = 6, filename = downloaded_files/27.txt\n",
      "51, 33, Pro-Multi-mutant counter = 7, filename = downloaded_files/35.txt\n",
      "53, 0, Multi-mutant counter = 8, filename = downloaded_files/37.txt\n",
      "58, 0, Multi-mutant counter = 9, filename = downloaded_files/43.txt\n",
      "59, 0, Multi-mutant counter = 10, filename = downloaded_files/44.txt\n",
      "60, 15, Pro-Multi-mutant counter = 11, filename = downloaded_files/46.txt\n",
      "61, 16, Multi-mutant counter = 12, filename = downloaded_files/47.txt\n",
      "62, 116, Pro-Multi-mutant counter = 13, filename = downloaded_files/49.txt\n",
      "63, 0, Pro-Multi-mutant counter = 14, filename = downloaded_files/5.txt\n",
      "64, 0, Multi-mutant counter = 15, filename = downloaded_files/51.txt\n",
      "67, 1, Pro-Multi-mutant counter = 16, filename = downloaded_files/56.txt\n",
      "72, 473, Pro-Multi-mutant counter = 17, filename = downloaded_files/68.txt\n"
     ]
    }
   ],
   "source": [
    "validation_indices = []\n",
    "multi_mutant_counter = 0\n",
    "additional_file_counter = 0\n",
    "\n",
    "for filename in glob.glob(f'downloaded_files/*'):\n",
    "    \n",
    "        \n",
    "    # read downloaded file\n",
    "    try:\n",
    "        score_df = pd.read_csv(f'{filename}',skiprows=4)\n",
    "    except Exception as e:\n",
    "        \n",
    "        try:\n",
    "            score_df = pd.read_csv(f'{filename}',skiprows=14)\n",
    "        except:    \n",
    "            score_df = pd.read_csv(f'{filename}',skiprows=17)\n",
    "            \n",
    "    # If hgvs_nt column not None, Count the number of \n",
    "    # matches of the right bracket in the hgvs_nt column. \n",
    "    # If more more than 1, that means multi_mutant data. \n",
    "    \n",
    "    # check if not empty and check if entry is string\n",
    "    if score_df['hgvs_nt'][0] and type(score_df['hgvs_nt'][0])==str:        \n",
    "        \n",
    "        # loop over column values until multi-mutant found\n",
    "        for values_index in range(len(score_df['hgvs_nt'].values)):\n",
    "            if score_df['hgvs_nt'][values_index].count('>') > 1:\n",
    "                multi_mutant_counter+=1\n",
    "                validation_indices.append([file_index,values_index])\n",
    "                print(f'{additional_file_counter}, {values_index}, Multi-mutant counter = {multi_mutant_counter}, filename = {filename}')\n",
    "                # if found multi-mutant, break out of inner loop\n",
    "                break\n",
    "            \n",
    "    # if ; count more than 0 in hgvs_pro column, then \n",
    "    # increment multi-mutant counter.\n",
    "    else:\n",
    "        \n",
    "        # loop over column values until multi-mutant found\n",
    "        for values_index in range(len(score_df['hgvs_pro'].values)):\n",
    "            if score_df['hgvs_pro'][values_index].count(';') > 0:\n",
    "                multi_mutant_counter+=1                \n",
    "                validation_indices.append([file_index,values_index])               \n",
    "                print(f'{additional_file_counter}, {values_index}, Pro-Multi-mutant counter = {multi_mutant_counter}, filename = {filename}')\n",
    "                # if found multi-mutant, break out of inner loop                \n",
    "                break\n",
    "    additional_file_counter+=1\n",
    "    "
   ]
  },
  {
   "cell_type": "code",
   "execution_count": 350,
   "metadata": {},
   "outputs": [],
   "source": [
    "total_files = 87"
   ]
  },
  {
   "cell_type": "code",
   "execution_count": 351,
   "metadata": {},
   "outputs": [
    {
     "name": "stdout",
     "output_type": "stream",
     "text": [
      "Multi mutant datasets = 17\n",
      "Total datasets = 87\n",
      "Percentage = 19.540 %\n"
     ]
    }
   ],
   "source": [
    "print(f'Multi mutant datasets = {multi_mutant_counter}')\n",
    "print(f'Total datasets = {total_files}')\n",
    "print(f'Percentage = {(multi_mutant_counter/total_files)*100:.3f} %')"
   ]
  },
  {
   "cell_type": "markdown",
   "metadata": {},
   "source": [
    "### Validate by hand"
   ]
  },
  {
   "cell_type": "code",
   "execution_count": 260,
   "metadata": {},
   "outputs": [
    {
     "name": "stdout",
     "output_type": "stream",
     "text": [
      "0 c.[8C>T;9C>G]\n",
      "1 p.[Pro4His;Leu24Glu]\n",
      "2 c.[1C>A;2A>G;3A>G]\n",
      "3 p.[Gly11Val;His165Tyr]\n",
      "4 p.[Pro4His;Leu24Glu]\n",
      "5 n.[38T>A;371A>T;392A>T;451T>A]\n",
      "6 p.[Met53Leu;Asn64Tyr;Asn71Thr;Met74Ile]\n",
      "7 p.[Trp20Ala;Leu23_Phe24delinsAlaAla]\n",
      "8 c.[1A>C;2T>C;3G>T]\n",
      "9 c.[47G>A;102T>A]\n",
      "10 c.[61T>G;62T>G;63A>C]\n",
      "11 p.[Thr3Gln;Val37Gln;Tyr66Asn;Phe126Val;Arg136Ala;Thr148Met]\n",
      "12 c.[1207G>T;1209C>T]\n",
      "13 c.[47G>A;102T>A]\n",
      "14 p.[Met1Leu;Val25Phe]\n",
      "15 c.[95A>T;96A>T;793G>T]\n",
      "16 p.[Ile58Val;Gln69Ala]\n",
      "17 c.[95A>T;96A>T;793G>T]\n",
      "18 n.[38T>A;371A>T;392A>T;451T>A]\n",
      "19 c.[61T>G;62T>G;63A>C]\n",
      "20 p.[Ser160Gly;Arg172His]\n",
      "21 c.[8C>T;9C>G]\n",
      "22 p.[Pro4His;Leu24Glu]\n",
      "23 p.[Met53Leu;Asn64Tyr;Asn71Thr;Met74Ile]\n",
      "24 p.[Met53Leu;Asn64Tyr;Asn71Thr;Met74Ile]\n",
      "25 p.[Trp20Ala;Leu23_Phe24delinsAlaAla]\n",
      "26 p.[Gly10Thr;Thr12Gln]\n",
      "27 p.[Gly10Thr;Thr12Gln]\n",
      "28 p.[Thr3Gln;Val37Gln;Tyr66Asn;Phe126Val;Arg136Ala;Thr148Met]\n"
     ]
    }
   ],
   "source": [
    "for validation_index in range(len(validation_indices)):\n",
    "    \n",
    "    row_index = validation_indices[validation_index][1]\n",
    "    \n",
    "    \n",
    "    try:\n",
    "        score_df = pd.read_csv(f'downloaded_files/{validation_indices[validation_index][0]}.txt',skiprows=4)\n",
    "    except Exception as e:\n",
    "        \n",
    "        try:\n",
    "            score_df = pd.read_csv(f'downloaded_files/{validation_indices[validation_index][0]}.txt',skiprows=14)\n",
    "        except:    \n",
    "            score_df = pd.read_csv(f'downloaded_files/{validation_indices[validation_index][0]}.txt',skiprows=17)    \n",
    "    \n",
    "    if type(score_df.loc[row_index]['hgvs_nt'])==str:\n",
    "        print(validation_index,score_df.loc[row_index]['hgvs_nt'])\n",
    "    else:\n",
    "        print(validation_index,score_df.loc[row_index]['hgvs_pro'])"
   ]
  },
  {
   "cell_type": "markdown",
   "metadata": {},
   "source": [
    "    -- Need to loop over hgvs_nt column until multiple > found, so that I don't miss multi-mutants\n",
    "    -- Use variable for filename\n",
    "    -- need to append \"-1\" after urn obtained from Get"
   ]
  },
  {
   "cell_type": "markdown",
   "metadata": {},
   "source": [
    "### Find additional scoreset files"
   ]
  },
  {
   "cell_type": "code",
   "execution_count": 270,
   "metadata": {
    "collapsed": true
   },
   "outputs": [],
   "source": [
    "download_urls = []\n",
    "for scoreset_index in range(len(score_set_call.json())):\n",
    "    \n",
    "    experiment_name = score_set_call.json()[scoreset_index]['experiment']\n",
    "    score_download_url = f'https://www.mavedb.org/scoreset/{experiment_name}-2/scores/'\n",
    "    download_urls.append(score_download_url)        \n",
    "    #print(f'{score_download_url}')"
   ]
  },
  {
   "cell_type": "code",
   "execution_count": 271,
   "metadata": {},
   "outputs": [
    {
     "name": "stdout",
     "output_type": "stream",
     "text": [
      " Downloading index = 0 ... \n",
      " Downloading index = 1 ... \n",
      " Downloading index = 2 ... \n",
      " Downloading index = 3 ... \n",
      " Downloading index = 4 ... \n",
      " Downloading index = 5 ... \n",
      " Downloading index = 6 ... \n",
      " Downloading index = 7 ... \n",
      " Downloading index = 8 ... \n",
      " Downloading index = 9 ... \n",
      " Downloading index = 10 ... \n",
      " Downloading index = 11 ... \n",
      " Downloading index = 12 ... \n",
      " Downloading index = 13 ... \n",
      " Downloading index = 14 ... \n",
      " Downloading index = 15 ... \n",
      " Downloading index = 16 ... \n",
      " Downloading index = 17 ... \n",
      " Downloading index = 18 ... \n",
      " Downloading index = 19 ... \n",
      " Downloading index = 20 ... \n",
      " Downloading index = 21 ... \n",
      " Downloading index = 22 ... \n",
      " Downloading index = 23 ... \n",
      " Downloading index = 24 ... \n",
      " Downloading index = 25 ... \n",
      " Downloading index = 26 ... \n",
      " Downloading index = 27 ... \n",
      " Downloading index = 28 ... \n",
      " Downloading index = 29 ... \n",
      " Downloading index = 30 ... \n",
      " Downloading index = 31 ... \n",
      " Downloading index = 32 ... \n",
      " Downloading index = 33 ... \n",
      " Downloading index = 34 ... \n",
      " Downloading index = 35 ... \n",
      " Downloading index = 36 ... \n",
      " Downloading index = 37 ... \n",
      " Downloading index = 38 ... \n",
      " Downloading index = 39 ... \n",
      " Downloading index = 40 ... \n",
      " Downloading index = 41 ... \n",
      " Downloading index = 42 ... \n",
      " Downloading index = 43 ... \n",
      " Downloading index = 44 ... \n",
      " Downloading index = 45 ... \n",
      " Downloading index = 46 ... \n",
      " Downloading index = 47 ... \n",
      " Downloading index = 48 ... \n",
      " Downloading index = 49 ... \n",
      " Downloading index = 50 ... \n",
      " Downloading index = 51 ... \n",
      " Downloading index = 52 ... \n",
      " Downloading index = 53 ... \n",
      " Downloading index = 54 ... \n",
      " Downloading index = 55 ... \n",
      " Downloading index = 56 ... \n",
      " Downloading index = 57 ... \n",
      " Downloading index = 58 ... \n",
      " Downloading index = 59 ... \n",
      " Downloading index = 60 ... \n",
      " Downloading index = 61 ... \n",
      " Downloading index = 62 ... \n",
      " Downloading index = 63 ... \n",
      " Downloading index = 64 ... \n",
      " Downloading index = 65 ... \n",
      " Downloading index = 66 ... \n",
      " Downloading index = 67 ... \n",
      " Downloading index = 68 ... \n",
      " Downloading index = 69 ... \n",
      " Downloading index = 70 ... \n",
      " Downloading index = 71 ... \n",
      " Downloading index = 72 ... \n",
      " Downloading index = 73 ... \n",
      " Downloading index = 74 ... \n",
      " Downloading index = 75 ... \n",
      " Downloading index = 76 ... \n",
      " Downloading index = 77 ... \n",
      " Downloading index = 78 ... \n",
      " Downloading index = 79 ... \n",
      " Downloading index = 80 ... \n",
      " Downloading index = 81 ... \n",
      " Downloading index = 82 ... \n",
      " Downloading index = 83 ... \n",
      " Downloading index = 84 ... \n",
      " Downloading index = 85 ... \n",
      " Downloading index = 86 ... \n",
      " Downloading index = 87 ... \n",
      " Downloading index = 88 ... \n",
      " Downloading index = 89 ... \n",
      " Downloading index = 90 ... \n",
      " Downloading index = 91 ... \n",
      " Downloading index = 92 ... \n",
      " Downloading index = 93 ... \n",
      " Downloading index = 94 ... \n",
      " Downloading index = 95 ... \n",
      " Downloading index = 96 ... \n",
      " Downloading index = 97 ... \n",
      " Downloading index = 98 ... \n",
      " Downloading index = 99 ... \n",
      " Downloading index = 100 ... \n",
      " Downloading index = 101 ... \n",
      " Downloading index = 102 ... \n",
      " Downloading index = 103 ... \n",
      " Downloading index = 104 ... \n",
      " Downloading index = 105 ... \n",
      " Downloading index = 106 ... \n",
      " Downloading index = 107 ... \n",
      " Downloading index = 108 ... \n",
      " Downloading index = 109 ... \n",
      " Downloading index = 110 ... \n",
      " Downloading index = 111 ... \n",
      " Downloading index = 112 ... \n",
      " Downloading index = 113 ... \n",
      " Downloading index = 114 ... \n",
      " Downloading index = 115 ... \n",
      " Downloading index = 116 ... \n",
      " Downloading index = 117 ... \n",
      " Downloading index = 118 ... \n",
      " Downloading index = 119 ... \n",
      " Downloading index = 120 ... \n",
      " Downloading index = 121 ... \n",
      " Downloading index = 122 ... \n",
      " Downloading index = 123 ... \n",
      " Downloading index = 124 ... \n",
      " Downloading index = 125 ... \n",
      " Downloading index = 126 ... \n",
      " Downloading index = 127 ... \n",
      " Downloading index = 128 ... \n",
      " Downloading index = 129 ... \n",
      " Downloading index = 130 ... \n",
      " Downloading index = 131 ... \n",
      " Downloading index = 132 ... \n",
      " Downloading index = 133 ... \n",
      " Downloading index = 134 ... \n",
      " Downloading index = 135 ... \n",
      " Downloading index = 136 ... \n",
      " Downloading index = 137 ... \n",
      " Downloading index = 138 ... \n",
      " Downloading index = 139 ... \n",
      " Downloading index = 140 ... \n",
      " Downloading index = 141 ... \n",
      " Downloading index = 142 ... \n",
      " Downloading index = 143 ... \n",
      " Downloading index = 144 ... \n",
      " Downloading index = 145 ... \n",
      " Downloading index = 146 ... \n",
      " Downloading index = 147 ... \n"
     ]
    }
   ],
   "source": [
    "# for download_index in range(len(download_urls)):\n",
    "        \n",
    "#     print(f' Downloading index = {download_index} ... ')\n",
    "\n",
    "#     download_url = download_urls[download_index]\n",
    "#     download_file(download_url, filename=f'downloaded_files_1/{download_index}.txt')"
   ]
  },
  {
   "cell_type": "code",
   "execution_count": 352,
   "metadata": {},
   "outputs": [
    {
     "name": "stdout",
     "output_type": "stream",
     "text": [
      "0, 0, Multi-mutant counter = 18, filename = downloaded_files_1/0.txt\n",
      "5, 0, Pro-Multi-mutant counter = 19, filename = downloaded_files_1/134.txt\n",
      "12, 0, Pro-Multi-mutant counter = 20, filename = downloaded_files_1/48.txt\n",
      "13, 0, Multi-mutant counter = 21, filename = downloaded_files_1/52.txt\n",
      "16, 1, Pro-Multi-mutant counter = 22, filename = downloaded_files_1/58.txt\n",
      "17, 0, Multi-mutant counter = 23, filename = downloaded_files_1/61.txt\n",
      "20, 1, Pro-Multi-mutant counter = 24, filename = downloaded_files_1/67.txt\n",
      "23, 5, Pro-Multi-mutant counter = 25, filename = downloaded_files_1/81.txt\n",
      "25, 1, Multi-mutant counter = 26, filename = downloaded_files_1/96.txt\n"
     ]
    }
   ],
   "source": [
    "validation_indices_1 = []\n",
    "multi_mutant_counter = 17\n",
    "additional_file_counter = 0\n",
    "\n",
    "for filename in glob.glob(f'downloaded_files_1/*'):\n",
    "    \n",
    "    if filename=='downloaded_files_1/61.txt':\n",
    "        \n",
    "        score_df = pd.read_csv(f'{filename}',skiprows=12)\n",
    "    else:\n",
    "        try:\n",
    "            score_df = pd.read_csv(f'{filename}',skiprows=4)\n",
    "        except Exception as e:\n",
    "\n",
    "            try:\n",
    "                score_df = pd.read_csv(f'{filename}',skiprows=14)\n",
    "            except:    \n",
    "                score_df = pd.read_csv(f'{filename}',skiprows=17)\n",
    "            \n",
    "    # If hgvs_nt column not None, Count the number of \n",
    "    # matches of the right bracket in the hgvs_nt column. \n",
    "    # If more more than 1, that means multi_mutant data. \n",
    "    \n",
    "    # check if not empty and check if entry is string\n",
    "    if score_df['hgvs_nt'][0] and type(score_df['hgvs_nt'][0])==str:        \n",
    "        \n",
    "        # loop over column values until multi-mutant found\n",
    "        for values_index in range(len(score_df['hgvs_nt'].values)):\n",
    "            if score_df['hgvs_nt'][values_index].count('>') > 1:\n",
    "                multi_mutant_counter+=1\n",
    "                validation_indices_1.append([file_index,values_index])\n",
    "                print(f'{additional_file_counter}, {values_index}, Multi-mutant counter = {multi_mutant_counter}, filename = {filename}')\n",
    "                # if found multi-mutant, break out of inner loop\n",
    "                break\n",
    "            \n",
    "    # if ; count more than 0 in hgvs_pro column, then \n",
    "    # increment multi-mutant counter.\n",
    "    else:\n",
    "        \n",
    "        # loop over column values until multi-mutant found\n",
    "        for values_index in range(len(score_df['hgvs_pro'].values)):\n",
    "            if score_df['hgvs_pro'][values_index].count(';') > 0:\n",
    "                multi_mutant_counter+=1                \n",
    "                validation_indices_1.append([file_index,values_index])               \n",
    "                print(f'{additional_file_counter}, {values_index}, Pro-Multi-mutant counter = {multi_mutant_counter}, filename = {filename}')\n",
    "                # if found multi-mutant, break out of inner loop                \n",
    "                break\n",
    "    additional_file_counter+=1\n",
    "    "
   ]
  },
  {
   "cell_type": "code",
   "execution_count": 353,
   "metadata": {},
   "outputs": [
    {
     "data": {
      "text/plain": [
       "26"
      ]
     },
     "execution_count": 353,
     "metadata": {},
     "output_type": "execute_result"
    }
   ],
   "source": [
    "file_counter=0\n",
    "for filename in glob.glob(f'downloaded_files_1/*'):\n",
    "    file_counter+=1\n",
    "file_counter"
   ]
  },
  {
   "cell_type": "code",
   "execution_count": 354,
   "metadata": {
    "collapsed": true
   },
   "outputs": [],
   "source": [
    "total_files+= file_counter"
   ]
  },
  {
   "cell_type": "code",
   "execution_count": 358,
   "metadata": {},
   "outputs": [
    {
     "data": {
      "text/plain": [
       "26"
      ]
     },
     "execution_count": 358,
     "metadata": {},
     "output_type": "execute_result"
    }
   ],
   "source": [
    "multi_mutant_counter"
   ]
  },
  {
   "cell_type": "code",
   "execution_count": 357,
   "metadata": {},
   "outputs": [
    {
     "name": "stdout",
     "output_type": "stream",
     "text": [
      "Multi mutant datasets = 26\n",
      "Total datasets = 113\n",
      "Percentage = 23.009 %\n"
     ]
    }
   ],
   "source": [
    "print(f'Multi mutant datasets = {multi_mutant_counter}')\n",
    "print(f'Total datasets = {total_files}')\n",
    "print(f'Percentage = {(multi_mutant_counter/total_files)*100:.3f} %')"
   ]
  },
  {
   "cell_type": "markdown",
   "metadata": {},
   "source": [
    "### Append '-3' to download URLs"
   ]
  },
  {
   "cell_type": "code",
   "execution_count": 327,
   "metadata": {
    "collapsed": true
   },
   "outputs": [],
   "source": [
    "download_urls = []\n",
    "for scoreset_index in range(len(score_set_call.json())):\n",
    "    \n",
    "    experiment_name = score_set_call.json()[scoreset_index]['experiment']\n",
    "    score_download_url = f'https://www.mavedb.org/scoreset/{experiment_name}-3/scores/'\n",
    "    download_urls.append(score_download_url)        \n",
    "    #print(f'{score_download_url}')"
   ]
  },
  {
   "cell_type": "code",
   "execution_count": 330,
   "metadata": {},
   "outputs": [
    {
     "name": "stdout",
     "output_type": "stream",
     "text": [
      " Downloading index = 0 ... \n",
      " Downloading index = 1 ... \n",
      " Downloading index = 2 ... \n",
      " Downloading index = 3 ... \n",
      " Downloading index = 4 ... \n",
      " Downloading index = 5 ... \n",
      " Downloading index = 6 ... \n",
      " Downloading index = 7 ... \n",
      " Downloading index = 8 ... \n",
      " Downloading index = 9 ... \n",
      " Downloading index = 10 ... \n",
      " Downloading index = 11 ... \n",
      " Downloading index = 12 ... \n",
      " Downloading index = 13 ... \n",
      " Downloading index = 14 ... \n",
      " Downloading index = 15 ... \n",
      " Downloading index = 16 ... \n",
      " Downloading index = 17 ... \n",
      " Downloading index = 18 ... \n",
      " Downloading index = 19 ... \n",
      " Downloading index = 20 ... \n",
      " Downloading index = 21 ... \n",
      " Downloading index = 22 ... \n",
      " Downloading index = 23 ... \n",
      " Downloading index = 24 ... \n",
      " Downloading index = 25 ... \n",
      " Downloading index = 26 ... \n",
      " Downloading index = 27 ... \n",
      " Downloading index = 28 ... \n",
      " Downloading index = 29 ... \n",
      " Downloading index = 30 ... \n",
      " Downloading index = 31 ... \n",
      " Downloading index = 32 ... \n",
      " Downloading index = 33 ... \n",
      " Downloading index = 34 ... \n",
      " Downloading index = 35 ... \n",
      " Downloading index = 36 ... \n",
      " Downloading index = 37 ... \n",
      " Downloading index = 38 ... \n",
      " Downloading index = 39 ... \n",
      " Downloading index = 40 ... \n",
      " Downloading index = 41 ... \n",
      " Downloading index = 42 ... \n",
      " Downloading index = 43 ... \n",
      " Downloading index = 44 ... \n",
      " Downloading index = 45 ... \n",
      " Downloading index = 46 ... \n",
      " Downloading index = 47 ... \n",
      " Downloading index = 48 ... \n",
      " Downloading index = 49 ... \n",
      " Downloading index = 50 ... \n",
      " Downloading index = 51 ... \n",
      " Downloading index = 52 ... \n",
      " Downloading index = 53 ... \n",
      " Downloading index = 54 ... \n",
      " Downloading index = 55 ... \n",
      " Downloading index = 56 ... \n",
      " Downloading index = 57 ... \n",
      " Downloading index = 58 ... \n",
      " Downloading index = 59 ... \n",
      " Downloading index = 60 ... \n",
      " Downloading index = 61 ... \n",
      " Downloading index = 62 ... \n",
      " Downloading index = 63 ... \n",
      " Downloading index = 64 ... \n",
      " Downloading index = 65 ... \n",
      " Downloading index = 66 ... \n",
      " Downloading index = 67 ... \n",
      " Downloading index = 68 ... \n",
      " Downloading index = 69 ... \n",
      " Downloading index = 70 ... \n",
      " Downloading index = 71 ... \n",
      " Downloading index = 72 ... \n",
      " Downloading index = 73 ... \n",
      " Downloading index = 74 ... \n",
      " Downloading index = 75 ... \n",
      " Downloading index = 76 ... \n",
      " Downloading index = 77 ... \n",
      " Downloading index = 78 ... \n",
      " Downloading index = 79 ... \n",
      " Downloading index = 80 ... \n",
      " Downloading index = 81 ... \n",
      " Downloading index = 82 ... \n",
      " Downloading index = 83 ... \n",
      " Downloading index = 84 ... \n",
      " Downloading index = 85 ... \n",
      " Downloading index = 86 ... \n",
      " Downloading index = 87 ... \n",
      " Downloading index = 88 ... \n",
      " Downloading index = 89 ... \n",
      " Downloading index = 90 ... \n",
      " Downloading index = 91 ... \n",
      " Downloading index = 92 ... \n",
      " Downloading index = 93 ... \n",
      " Downloading index = 94 ... \n",
      " Downloading index = 95 ... \n",
      " Downloading index = 96 ... \n",
      " Downloading index = 97 ... \n",
      " Downloading index = 98 ... \n",
      " Downloading index = 99 ... \n",
      " Downloading index = 100 ... \n",
      " Downloading index = 101 ... \n",
      " Downloading index = 102 ... \n",
      " Downloading index = 103 ... \n",
      " Downloading index = 104 ... \n",
      " Downloading index = 105 ... \n",
      " Downloading index = 106 ... \n",
      " Downloading index = 107 ... \n",
      " Downloading index = 108 ... \n",
      " Downloading index = 109 ... \n",
      " Downloading index = 110 ... \n",
      " Downloading index = 111 ... \n",
      " Downloading index = 112 ... \n",
      " Downloading index = 113 ... \n",
      " Downloading index = 114 ... \n",
      " Downloading index = 115 ... \n",
      " Downloading index = 116 ... \n",
      " Downloading index = 117 ... \n",
      " Downloading index = 118 ... \n",
      " Downloading index = 119 ... \n",
      " Downloading index = 120 ... \n",
      " Downloading index = 121 ... \n",
      " Downloading index = 122 ... \n",
      " Downloading index = 123 ... \n",
      " Downloading index = 124 ... \n",
      " Downloading index = 125 ... \n",
      " Downloading index = 126 ... \n",
      " Downloading index = 127 ... \n",
      " Downloading index = 128 ... \n",
      " Downloading index = 129 ... \n",
      " Downloading index = 130 ... \n",
      " Downloading index = 131 ... \n",
      " Downloading index = 132 ... \n",
      " Downloading index = 133 ... \n",
      " Downloading index = 134 ... \n",
      " Downloading index = 135 ... \n",
      " Downloading index = 136 ... \n",
      " Downloading index = 137 ... \n",
      " Downloading index = 138 ... \n",
      " Downloading index = 139 ... \n",
      " Downloading index = 140 ... \n",
      " Downloading index = 141 ... \n",
      " Downloading index = 142 ... \n",
      " Downloading index = 143 ... \n",
      " Downloading index = 144 ... \n",
      " Downloading index = 145 ... \n",
      " Downloading index = 146 ... \n",
      " Downloading index = 147 ... \n"
     ]
    }
   ],
   "source": [
    "# for download_index in range(len(download_urls)):\n",
    "        \n",
    "#     print(f' Downloading index = {download_index} ... ')\n",
    "\n",
    "#     download_url = download_urls[download_index]\n",
    "#     download_file(download_url, filename=f'downloaded_files_2/{download_index}.txt')"
   ]
  },
  {
   "cell_type": "code",
   "execution_count": 359,
   "metadata": {},
   "outputs": [
    {
     "name": "stdout",
     "output_type": "stream",
     "text": [
      "2, 1, Pro-Multi-mutant counter = 27, filename = downloaded_files_2/27.txt\n",
      "7, 5, Pro-Multi-mutant counter = 28, filename = downloaded_files_2/5.txt\n"
     ]
    }
   ],
   "source": [
    "validation_indices_2 = []\n",
    "multi_mutant_counter = multi_mutant_counter\n",
    "additional_file_counter_2 = 0\n",
    "\n",
    "for filename in glob.glob(f'downloaded_files_2/*'):\n",
    "    \n",
    "\n",
    "\n",
    "    try:\n",
    "        score_df = pd.read_csv(f'{filename}',skiprows=4)\n",
    "    except Exception as e:\n",
    "\n",
    "        try:\n",
    "            score_df = pd.read_csv(f'{filename}',skiprows=14)\n",
    "        except:    \n",
    "            score_df = pd.read_csv(f'{filename}',skiprows=17)\n",
    "            \n",
    "    # If hgvs_nt column not None, Count the number of \n",
    "    # matches of the right bracket in the hgvs_nt column. \n",
    "    # If more more than 1, that means multi_mutant data. \n",
    "    \n",
    "    # check if not empty and check if entry is string\n",
    "    if score_df['hgvs_nt'][0] and type(score_df['hgvs_nt'][0])==str:        \n",
    "        \n",
    "        # loop over column values until multi-mutant found\n",
    "        for values_index in range(len(score_df['hgvs_nt'].values)):\n",
    "            if score_df['hgvs_nt'][values_index].count('>') > 1:\n",
    "                multi_mutant_counter+=1\n",
    "                validation_indices_2.append([file_index,values_index])\n",
    "                print(f'{additional_file_counter_2}, {values_index}, Multi-mutant counter = {multi_mutant_counter}, filename = {filename}')\n",
    "                # if found multi-mutant, break out of inner loop\n",
    "                break\n",
    "            \n",
    "    # if ; count more than 0 in hgvs_pro column, then \n",
    "    # increment multi-mutant counter.\n",
    "    else:\n",
    "        \n",
    "        # loop over column values until multi-mutant found\n",
    "        for values_index in range(len(score_df['hgvs_pro'].values)):\n",
    "            if score_df['hgvs_pro'][values_index].count(';') > 0:\n",
    "                multi_mutant_counter+=1                \n",
    "                validation_indices_2.append([file_index,values_index])               \n",
    "                print(f'{additional_file_counter_2}, {values_index}, Pro-Multi-mutant counter = {multi_mutant_counter}, filename = {filename}')\n",
    "                # if found multi-mutant, break out of inner loop                \n",
    "                break\n",
    "    additional_file_counter_2+=1"
   ]
  },
  {
   "cell_type": "code",
   "execution_count": 361,
   "metadata": {
    "collapsed": true
   },
   "outputs": [],
   "source": [
    "total_files+=10"
   ]
  },
  {
   "cell_type": "code",
   "execution_count": 363,
   "metadata": {},
   "outputs": [
    {
     "data": {
      "text/plain": [
       "28"
      ]
     },
     "execution_count": 363,
     "metadata": {},
     "output_type": "execute_result"
    }
   ],
   "source": [
    "multi_mutant_counter"
   ]
  },
  {
   "cell_type": "code",
   "execution_count": 364,
   "metadata": {},
   "outputs": [
    {
     "name": "stdout",
     "output_type": "stream",
     "text": [
      "Multi mutant datasets = 28\n",
      "Total datasets = 123\n",
      "Percentage = 22.764 %\n"
     ]
    }
   ],
   "source": [
    "print(f'Multi mutant datasets = {multi_mutant_counter}')\n",
    "print(f'Total datasets = {total_files}')\n",
    "print(f'Percentage = {(multi_mutant_counter/(total_files))*100:.3f} %')"
   ]
  },
  {
   "cell_type": "code",
   "execution_count": null,
   "metadata": {
    "collapsed": true
   },
   "outputs": [],
   "source": []
  }
 ],
 "metadata": {
  "kernelspec": {
   "display_name": "Python 3",
   "language": "python",
   "name": "python3"
  },
  "language_info": {
   "codemirror_mode": {
    "name": "ipython",
    "version": 3
   },
   "file_extension": ".py",
   "mimetype": "text/x-python",
   "name": "python",
   "nbconvert_exporter": "python",
   "pygments_lexer": "ipython3",
   "version": "3.6.7"
  }
 },
 "nbformat": 4,
 "nbformat_minor": 2
}
